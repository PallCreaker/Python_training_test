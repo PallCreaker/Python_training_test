{
  "nbformat": 4,
  "nbformat_minor": 0,
  "metadata": {
    "colab": {
      "name": "python_workshop_1_TW.ipynb",
      "version": "0.3.2",
      "views": {},
      "default_view": {},
      "provenance": []
    },
    "kernelspec": {
      "name": "python3",
      "display_name": "Python 3"
    }
  },
  "cells": [
    {
      "metadata": {
        "id": "IvVxLViZGTYq",
        "colab_type": "code",
        "colab": {
          "autoexec": {
            "startup": false,
            "wait_interval": 0
          },
          "base_uri": "https://localhost:8080/",
          "height": 34
        },
        "outputId": "8688aafe-dabf-42bd-ba03-c5e135495220",
        "executionInfo": {
          "status": "ok",
          "timestamp": 1529901418027,
          "user_tz": -540,
          "elapsed": 1006,
          "user": {
            "displayName": "渡辺剛志",
            "photoUrl": "//lh3.googleusercontent.com/-Y8lP9fDW5vI/AAAAAAAAAAI/AAAAAAAAAFw/1IlolMsOgZI/s50-c-k-no/photo.jpg",
            "userId": "104385516219516651552"
          }
        }
      },
      "cell_type": "code",
      "source": [
        "#Set WD\n",
        "cd /content/drive/PwC "
      ],
      "execution_count": 49,
      "outputs": [
        {
          "output_type": "stream",
          "text": [
            "/content/drive/PwC\n"
          ],
          "name": "stdout"
        }
      ]
    },
    {
      "metadata": {
        "id": "8E234FQzGv_o",
        "colab_type": "code",
        "colab": {
          "autoexec": {
            "startup": false,
            "wait_interval": 0
          }
        }
      },
      "cell_type": "code",
      "source": [
        "#Set Package\n",
        "import pandas as pd\n",
        "import numpy as np"
      ],
      "execution_count": 0,
      "outputs": []
    },
    {
      "metadata": {
        "id": "1Bwdw4oiHwsS",
        "colab_type": "code",
        "colab": {
          "autoexec": {
            "startup": false,
            "wait_interval": 0
          },
          "base_uri": "https://localhost:8080/",
          "height": 990
        },
        "outputId": "e8559168-40fe-428a-d0b9-ab3b3fe9c112",
        "executionInfo": {
          "status": "ok",
          "timestamp": 1529901432986,
          "user_tz": -540,
          "elapsed": 630,
          "user": {
            "displayName": "渡辺剛志",
            "photoUrl": "//lh3.googleusercontent.com/-Y8lP9fDW5vI/AAAAAAAAAAI/AAAAAAAAAFw/1IlolMsOgZI/s50-c-k-no/photo.jpg",
            "userId": "104385516219516651552"
          }
        }
      },
      "cell_type": "code",
      "source": [
        "#Pandas\n",
        "#Q1----------\n",
        "#Load CSV\n",
        "df = pd.read_csv(\"NHANES_sample_data.csv\")\n",
        "\n",
        "#check top 30 rows & number of columns\n",
        "print(\"列数: \" + str(len(df.columns)) + \"列\")\n",
        "print(\"始めの30行をチェック↓\")\n",
        "df.iloc[0:30,:]"
      ],
      "execution_count": 56,
      "outputs": [
        {
          "output_type": "stream",
          "text": [
            "列数: 14列\n",
            "始めの30行をチェック↓\n"
          ],
          "name": "stdout"
        },
        {
          "output_type": "execute_result",
          "data": {
            "text/html": [
              "<div>\n",
              "<style scoped>\n",
              "    .dataframe tbody tr th:only-of-type {\n",
              "        vertical-align: middle;\n",
              "    }\n",
              "\n",
              "    .dataframe tbody tr th {\n",
              "        vertical-align: top;\n",
              "    }\n",
              "\n",
              "    .dataframe thead th {\n",
              "        text-align: right;\n",
              "    }\n",
              "</style>\n",
              "<table border=\"1\" class=\"dataframe\">\n",
              "  <thead>\n",
              "    <tr style=\"text-align: right;\">\n",
              "      <th></th>\n",
              "      <th>SEQN</th>\n",
              "      <th>RIDAGEYR</th>\n",
              "      <th>RIAGENDR</th>\n",
              "      <th>RIDRETH3</th>\n",
              "      <th>WTINT2YR</th>\n",
              "      <th>WTMEC2YR</th>\n",
              "      <th>DR1TCARB</th>\n",
              "      <th>DR1TTFAT</th>\n",
              "      <th>BMXWT</th>\n",
              "      <th>BMXBMI</th>\n",
              "      <th>BMXHT</th>\n",
              "      <th>LBXGH</th>\n",
              "      <th>LBXGLU</th>\n",
              "      <th>LBDGLUSI</th>\n",
              "    </tr>\n",
              "  </thead>\n",
              "  <tbody>\n",
              "    <tr>\n",
              "      <th>0</th>\n",
              "      <td>73557.0</td>\n",
              "      <td>6.900000e+01</td>\n",
              "      <td>1.0</td>\n",
              "      <td>4.0</td>\n",
              "      <td>13281.237386</td>\n",
              "      <td>1.348104e+04</td>\n",
              "      <td>239.59</td>\n",
              "      <td>52.81</td>\n",
              "      <td>78.3</td>\n",
              "      <td>26.7</td>\n",
              "      <td>171.30</td>\n",
              "      <td>13.9</td>\n",
              "      <td>NaN</td>\n",
              "      <td>NaN</td>\n",
              "    </tr>\n",
              "    <tr>\n",
              "      <th>1</th>\n",
              "      <td>73558.0</td>\n",
              "      <td>5.400000e+01</td>\n",
              "      <td>1.0</td>\n",
              "      <td>3.0</td>\n",
              "      <td>23682.057386</td>\n",
              "      <td>2.447177e+04</td>\n",
              "      <td>423.78</td>\n",
              "      <td>124.29</td>\n",
              "      <td>89.5</td>\n",
              "      <td>28.6</td>\n",
              "      <td>176.80</td>\n",
              "      <td>9.1</td>\n",
              "      <td>NaN</td>\n",
              "      <td>NaN</td>\n",
              "    </tr>\n",
              "    <tr>\n",
              "      <th>2</th>\n",
              "      <td>73559.0</td>\n",
              "      <td>7.200000e+01</td>\n",
              "      <td>1.0</td>\n",
              "      <td>3.0</td>\n",
              "      <td>57214.803319</td>\n",
              "      <td>5.719329e+04</td>\n",
              "      <td>224.39</td>\n",
              "      <td>65.97</td>\n",
              "      <td>88.9</td>\n",
              "      <td>28.9</td>\n",
              "      <td>175.30</td>\n",
              "      <td>8.9</td>\n",
              "      <td>193.0</td>\n",
              "      <td>10.713</td>\n",
              "    </tr>\n",
              "    <tr>\n",
              "      <th>3</th>\n",
              "      <td>73560.0</td>\n",
              "      <td>9.000000e+00</td>\n",
              "      <td>1.0</td>\n",
              "      <td>3.0</td>\n",
              "      <td>55201.178592</td>\n",
              "      <td>5.576651e+04</td>\n",
              "      <td>162.92</td>\n",
              "      <td>58.27</td>\n",
              "      <td>32.2</td>\n",
              "      <td>17.1</td>\n",
              "      <td>137.30</td>\n",
              "      <td>NaN</td>\n",
              "      <td>NaN</td>\n",
              "      <td>NaN</td>\n",
              "    </tr>\n",
              "    <tr>\n",
              "      <th>4</th>\n",
              "      <td>73561.0</td>\n",
              "      <td>7.300000e+01</td>\n",
              "      <td>2.0</td>\n",
              "      <td>3.0</td>\n",
              "      <td>63709.667069</td>\n",
              "      <td>6.554187e+04</td>\n",
              "      <td>178.20</td>\n",
              "      <td>55.36</td>\n",
              "      <td>52.0</td>\n",
              "      <td>19.7</td>\n",
              "      <td>162.40</td>\n",
              "      <td>4.9</td>\n",
              "      <td>107.0</td>\n",
              "      <td>5.940</td>\n",
              "    </tr>\n",
              "    <tr>\n",
              "      <th>5</th>\n",
              "      <td>73562.0</td>\n",
              "      <td>5.600000e+01</td>\n",
              "      <td>1.0</td>\n",
              "      <td>1.0</td>\n",
              "      <td>24978.144602</td>\n",
              "      <td>2.534499e+04</td>\n",
              "      <td>189.59</td>\n",
              "      <td>93.92</td>\n",
              "      <td>105.0</td>\n",
              "      <td>41.7</td>\n",
              "      <td>158.70</td>\n",
              "      <td>5.5</td>\n",
              "      <td>NaN</td>\n",
              "      <td>NaN</td>\n",
              "    </tr>\n",
              "    <tr>\n",
              "      <th>6</th>\n",
              "      <td>73563.0</td>\n",
              "      <td>5.397605e-79</td>\n",
              "      <td>1.0</td>\n",
              "      <td>3.0</td>\n",
              "      <td>18040.818432</td>\n",
              "      <td>1.791356e+04</td>\n",
              "      <td>NaN</td>\n",
              "      <td>NaN</td>\n",
              "      <td>7.4</td>\n",
              "      <td>NaN</td>\n",
              "      <td>NaN</td>\n",
              "      <td>NaN</td>\n",
              "      <td>NaN</td>\n",
              "      <td>NaN</td>\n",
              "    </tr>\n",
              "    <tr>\n",
              "      <th>7</th>\n",
              "      <td>73564.0</td>\n",
              "      <td>6.100000e+01</td>\n",
              "      <td>2.0</td>\n",
              "      <td>3.0</td>\n",
              "      <td>60325.095254</td>\n",
              "      <td>6.175865e+04</td>\n",
              "      <td>300.16</td>\n",
              "      <td>91.03</td>\n",
              "      <td>93.4</td>\n",
              "      <td>35.7</td>\n",
              "      <td>161.80</td>\n",
              "      <td>5.5</td>\n",
              "      <td>110.0</td>\n",
              "      <td>6.106</td>\n",
              "    </tr>\n",
              "    <tr>\n",
              "      <th>8</th>\n",
              "      <td>73565.0</td>\n",
              "      <td>4.200000e+01</td>\n",
              "      <td>1.0</td>\n",
              "      <td>2.0</td>\n",
              "      <td>23307.675629</td>\n",
              "      <td>5.397605e-79</td>\n",
              "      <td>NaN</td>\n",
              "      <td>NaN</td>\n",
              "      <td>NaN</td>\n",
              "      <td>NaN</td>\n",
              "      <td>NaN</td>\n",
              "      <td>NaN</td>\n",
              "      <td>NaN</td>\n",
              "      <td>NaN</td>\n",
              "    </tr>\n",
              "    <tr>\n",
              "      <th>9</th>\n",
              "      <td>73566.0</td>\n",
              "      <td>5.600000e+01</td>\n",
              "      <td>2.0</td>\n",
              "      <td>3.0</td>\n",
              "      <td>16351.783140</td>\n",
              "      <td>1.748012e+04</td>\n",
              "      <td>226.32</td>\n",
              "      <td>41.31</td>\n",
              "      <td>61.8</td>\n",
              "      <td>26.5</td>\n",
              "      <td>152.80</td>\n",
              "      <td>5.4</td>\n",
              "      <td>NaN</td>\n",
              "      <td>NaN</td>\n",
              "    </tr>\n",
              "    <tr>\n",
              "      <th>10</th>\n",
              "      <td>73567.0</td>\n",
              "      <td>6.500000e+01</td>\n",
              "      <td>1.0</td>\n",
              "      <td>3.0</td>\n",
              "      <td>34002.622995</td>\n",
              "      <td>3.479543e+04</td>\n",
              "      <td>216.59</td>\n",
              "      <td>82.95</td>\n",
              "      <td>65.3</td>\n",
              "      <td>22.0</td>\n",
              "      <td>172.40</td>\n",
              "      <td>5.2</td>\n",
              "      <td>NaN</td>\n",
              "      <td>NaN</td>\n",
              "    </tr>\n",
              "    <tr>\n",
              "      <th>11</th>\n",
              "      <td>73568.0</td>\n",
              "      <td>2.600000e+01</td>\n",
              "      <td>2.0</td>\n",
              "      <td>3.0</td>\n",
              "      <td>89514.433218</td>\n",
              "      <td>9.152352e+04</td>\n",
              "      <td>227.63</td>\n",
              "      <td>172.21</td>\n",
              "      <td>47.1</td>\n",
              "      <td>20.3</td>\n",
              "      <td>152.50</td>\n",
              "      <td>5.2</td>\n",
              "      <td>89.0</td>\n",
              "      <td>4.940</td>\n",
              "    </tr>\n",
              "    <tr>\n",
              "      <th>12</th>\n",
              "      <td>73569.0</td>\n",
              "      <td>5.397605e-79</td>\n",
              "      <td>2.0</td>\n",
              "      <td>7.0</td>\n",
              "      <td>6673.803649</td>\n",
              "      <td>5.397605e-79</td>\n",
              "      <td>NaN</td>\n",
              "      <td>NaN</td>\n",
              "      <td>NaN</td>\n",
              "      <td>NaN</td>\n",
              "      <td>NaN</td>\n",
              "      <td>NaN</td>\n",
              "      <td>NaN</td>\n",
              "      <td>NaN</td>\n",
              "    </tr>\n",
              "    <tr>\n",
              "      <th>13</th>\n",
              "      <td>73570.0</td>\n",
              "      <td>9.000000e+00</td>\n",
              "      <td>2.0</td>\n",
              "      <td>7.0</td>\n",
              "      <td>11913.818655</td>\n",
              "      <td>1.207147e+04</td>\n",
              "      <td>299.48</td>\n",
              "      <td>81.19</td>\n",
              "      <td>31.9</td>\n",
              "      <td>17.4</td>\n",
              "      <td>135.50</td>\n",
              "      <td>NaN</td>\n",
              "      <td>NaN</td>\n",
              "      <td>NaN</td>\n",
              "    </tr>\n",
              "    <tr>\n",
              "      <th>14</th>\n",
              "      <td>73571.0</td>\n",
              "      <td>7.600000e+01</td>\n",
              "      <td>1.0</td>\n",
              "      <td>3.0</td>\n",
              "      <td>46988.470276</td>\n",
              "      <td>4.619011e+04</td>\n",
              "      <td>150.93</td>\n",
              "      <td>39.68</td>\n",
              "      <td>102.4</td>\n",
              "      <td>34.4</td>\n",
              "      <td>172.50</td>\n",
              "      <td>6.9</td>\n",
              "      <td>NaN</td>\n",
              "      <td>NaN</td>\n",
              "    </tr>\n",
              "    <tr>\n",
              "      <th>15</th>\n",
              "      <td>73572.0</td>\n",
              "      <td>1.000000e+01</td>\n",
              "      <td>2.0</td>\n",
              "      <td>4.0</td>\n",
              "      <td>11689.376908</td>\n",
              "      <td>1.276440e+04</td>\n",
              "      <td>178.12</td>\n",
              "      <td>78.54</td>\n",
              "      <td>41.7</td>\n",
              "      <td>19.7</td>\n",
              "      <td>145.40</td>\n",
              "      <td>NaN</td>\n",
              "      <td>NaN</td>\n",
              "      <td>NaN</td>\n",
              "    </tr>\n",
              "    <tr>\n",
              "      <th>16</th>\n",
              "      <td>73573.0</td>\n",
              "      <td>1.000000e+01</td>\n",
              "      <td>1.0</td>\n",
              "      <td>4.0</td>\n",
              "      <td>6403.212786</td>\n",
              "      <td>6.460788e+03</td>\n",
              "      <td>NaN</td>\n",
              "      <td>NaN</td>\n",
              "      <td>50.1</td>\n",
              "      <td>20.0</td>\n",
              "      <td>158.38</td>\n",
              "      <td>NaN</td>\n",
              "      <td>NaN</td>\n",
              "      <td>NaN</td>\n",
              "    </tr>\n",
              "    <tr>\n",
              "      <th>17</th>\n",
              "      <td>73574.0</td>\n",
              "      <td>3.300000e+01</td>\n",
              "      <td>2.0</td>\n",
              "      <td>6.0</td>\n",
              "      <td>14155.313000</td>\n",
              "      <td>1.539722e+04</td>\n",
              "      <td>575.61</td>\n",
              "      <td>249.49</td>\n",
              "      <td>56.8</td>\n",
              "      <td>22.8</td>\n",
              "      <td>158.00</td>\n",
              "      <td>5.0</td>\n",
              "      <td>84.0</td>\n",
              "      <td>4.663</td>\n",
              "    </tr>\n",
              "    <tr>\n",
              "      <th>18</th>\n",
              "      <td>73575.0</td>\n",
              "      <td>1.000000e+00</td>\n",
              "      <td>1.0</td>\n",
              "      <td>4.0</td>\n",
              "      <td>7574.950558</td>\n",
              "      <td>7.721542e+03</td>\n",
              "      <td>124.92</td>\n",
              "      <td>32.08</td>\n",
              "      <td>9.4</td>\n",
              "      <td>NaN</td>\n",
              "      <td>NaN</td>\n",
              "      <td>NaN</td>\n",
              "      <td>NaN</td>\n",
              "      <td>NaN</td>\n",
              "    </tr>\n",
              "    <tr>\n",
              "      <th>19</th>\n",
              "      <td>73576.0</td>\n",
              "      <td>1.600000e+01</td>\n",
              "      <td>1.0</td>\n",
              "      <td>4.0</td>\n",
              "      <td>12433.748735</td>\n",
              "      <td>1.266577e+04</td>\n",
              "      <td>145.46</td>\n",
              "      <td>25.14</td>\n",
              "      <td>67.3</td>\n",
              "      <td>23.2</td>\n",
              "      <td>170.40</td>\n",
              "      <td>5.1</td>\n",
              "      <td>89.0</td>\n",
              "      <td>4.940</td>\n",
              "    </tr>\n",
              "    <tr>\n",
              "      <th>20</th>\n",
              "      <td>73577.0</td>\n",
              "      <td>3.200000e+01</td>\n",
              "      <td>1.0</td>\n",
              "      <td>1.0</td>\n",
              "      <td>36284.650273</td>\n",
              "      <td>3.973502e+04</td>\n",
              "      <td>385.05</td>\n",
              "      <td>121.74</td>\n",
              "      <td>79.7</td>\n",
              "      <td>28.9</td>\n",
              "      <td>166.20</td>\n",
              "      <td>5.3</td>\n",
              "      <td>104.0</td>\n",
              "      <td>5.773</td>\n",
              "    </tr>\n",
              "    <tr>\n",
              "      <th>21</th>\n",
              "      <td>73578.0</td>\n",
              "      <td>1.800000e+01</td>\n",
              "      <td>1.0</td>\n",
              "      <td>1.0</td>\n",
              "      <td>11592.846429</td>\n",
              "      <td>1.175863e+04</td>\n",
              "      <td>113.89</td>\n",
              "      <td>18.24</td>\n",
              "      <td>109.4</td>\n",
              "      <td>35.6</td>\n",
              "      <td>175.20</td>\n",
              "      <td>NaN</td>\n",
              "      <td>NaN</td>\n",
              "      <td>NaN</td>\n",
              "    </tr>\n",
              "    <tr>\n",
              "      <th>22</th>\n",
              "      <td>73579.0</td>\n",
              "      <td>1.200000e+01</td>\n",
              "      <td>2.0</td>\n",
              "      <td>3.0</td>\n",
              "      <td>63248.989522</td>\n",
              "      <td>7.070803e+04</td>\n",
              "      <td>211.42</td>\n",
              "      <td>60.80</td>\n",
              "      <td>40.2</td>\n",
              "      <td>15.5</td>\n",
              "      <td>161.00</td>\n",
              "      <td>5.5</td>\n",
              "      <td>NaN</td>\n",
              "      <td>NaN</td>\n",
              "    </tr>\n",
              "    <tr>\n",
              "      <th>23</th>\n",
              "      <td>73580.0</td>\n",
              "      <td>3.800000e+01</td>\n",
              "      <td>2.0</td>\n",
              "      <td>4.0</td>\n",
              "      <td>27388.920690</td>\n",
              "      <td>2.719664e+04</td>\n",
              "      <td>305.69</td>\n",
              "      <td>97.72</td>\n",
              "      <td>93.5</td>\n",
              "      <td>35.9</td>\n",
              "      <td>161.40</td>\n",
              "      <td>5.8</td>\n",
              "      <td>103.0</td>\n",
              "      <td>5.718</td>\n",
              "    </tr>\n",
              "    <tr>\n",
              "      <th>24</th>\n",
              "      <td>73581.0</td>\n",
              "      <td>5.000000e+01</td>\n",
              "      <td>1.0</td>\n",
              "      <td>6.0</td>\n",
              "      <td>15902.418122</td>\n",
              "      <td>1.676426e+04</td>\n",
              "      <td>534.92</td>\n",
              "      <td>63.95</td>\n",
              "      <td>80.9</td>\n",
              "      <td>23.6</td>\n",
              "      <td>185.00</td>\n",
              "      <td>5.0</td>\n",
              "      <td>110.0</td>\n",
              "      <td>6.106</td>\n",
              "    </tr>\n",
              "    <tr>\n",
              "      <th>25</th>\n",
              "      <td>73582.0</td>\n",
              "      <td>2.300000e+01</td>\n",
              "      <td>2.0</td>\n",
              "      <td>4.0</td>\n",
              "      <td>30197.081366</td>\n",
              "      <td>3.118189e+04</td>\n",
              "      <td>NaN</td>\n",
              "      <td>NaN</td>\n",
              "      <td>46.7</td>\n",
              "      <td>18.6</td>\n",
              "      <td>158.30</td>\n",
              "      <td>NaN</td>\n",
              "      <td>NaN</td>\n",
              "      <td>NaN</td>\n",
              "    </tr>\n",
              "    <tr>\n",
              "      <th>26</th>\n",
              "      <td>73583.0</td>\n",
              "      <td>7.000000e+00</td>\n",
              "      <td>2.0</td>\n",
              "      <td>3.0</td>\n",
              "      <td>47574.649392</td>\n",
              "      <td>4.819641e+04</td>\n",
              "      <td>94.60</td>\n",
              "      <td>12.20</td>\n",
              "      <td>19.7</td>\n",
              "      <td>14.4</td>\n",
              "      <td>116.90</td>\n",
              "      <td>NaN</td>\n",
              "      <td>NaN</td>\n",
              "      <td>NaN</td>\n",
              "    </tr>\n",
              "    <tr>\n",
              "      <th>27</th>\n",
              "      <td>73584.0</td>\n",
              "      <td>1.300000e+01</td>\n",
              "      <td>1.0</td>\n",
              "      <td>3.0</td>\n",
              "      <td>72700.381729</td>\n",
              "      <td>7.218224e+04</td>\n",
              "      <td>87.44</td>\n",
              "      <td>29.36</td>\n",
              "      <td>53.1</td>\n",
              "      <td>25.3</td>\n",
              "      <td>144.90</td>\n",
              "      <td>5.4</td>\n",
              "      <td>NaN</td>\n",
              "      <td>NaN</td>\n",
              "    </tr>\n",
              "    <tr>\n",
              "      <th>28</th>\n",
              "      <td>73585.0</td>\n",
              "      <td>2.800000e+01</td>\n",
              "      <td>1.0</td>\n",
              "      <td>6.0</td>\n",
              "      <td>18063.143861</td>\n",
              "      <td>1.859097e+04</td>\n",
              "      <td>175.42</td>\n",
              "      <td>80.46</td>\n",
              "      <td>92.2</td>\n",
              "      <td>30.1</td>\n",
              "      <td>175.10</td>\n",
              "      <td>5.0</td>\n",
              "      <td>NaN</td>\n",
              "      <td>NaN</td>\n",
              "    </tr>\n",
              "    <tr>\n",
              "      <th>29</th>\n",
              "      <td>73586.0</td>\n",
              "      <td>4.000000e+00</td>\n",
              "      <td>2.0</td>\n",
              "      <td>6.0</td>\n",
              "      <td>11635.240800</td>\n",
              "      <td>1.356968e+04</td>\n",
              "      <td>93.32</td>\n",
              "      <td>37.64</td>\n",
              "      <td>18.6</td>\n",
              "      <td>15.5</td>\n",
              "      <td>109.40</td>\n",
              "      <td>NaN</td>\n",
              "      <td>NaN</td>\n",
              "      <td>NaN</td>\n",
              "    </tr>\n",
              "  </tbody>\n",
              "</table>\n",
              "</div>"
            ],
            "text/plain": [
              "       SEQN      RIDAGEYR  RIAGENDR  RIDRETH3      WTINT2YR      WTMEC2YR  \\\n",
              "0   73557.0  6.900000e+01       1.0       4.0  13281.237386  1.348104e+04   \n",
              "1   73558.0  5.400000e+01       1.0       3.0  23682.057386  2.447177e+04   \n",
              "2   73559.0  7.200000e+01       1.0       3.0  57214.803319  5.719329e+04   \n",
              "3   73560.0  9.000000e+00       1.0       3.0  55201.178592  5.576651e+04   \n",
              "4   73561.0  7.300000e+01       2.0       3.0  63709.667069  6.554187e+04   \n",
              "5   73562.0  5.600000e+01       1.0       1.0  24978.144602  2.534499e+04   \n",
              "6   73563.0  5.397605e-79       1.0       3.0  18040.818432  1.791356e+04   \n",
              "7   73564.0  6.100000e+01       2.0       3.0  60325.095254  6.175865e+04   \n",
              "8   73565.0  4.200000e+01       1.0       2.0  23307.675629  5.397605e-79   \n",
              "9   73566.0  5.600000e+01       2.0       3.0  16351.783140  1.748012e+04   \n",
              "10  73567.0  6.500000e+01       1.0       3.0  34002.622995  3.479543e+04   \n",
              "11  73568.0  2.600000e+01       2.0       3.0  89514.433218  9.152352e+04   \n",
              "12  73569.0  5.397605e-79       2.0       7.0   6673.803649  5.397605e-79   \n",
              "13  73570.0  9.000000e+00       2.0       7.0  11913.818655  1.207147e+04   \n",
              "14  73571.0  7.600000e+01       1.0       3.0  46988.470276  4.619011e+04   \n",
              "15  73572.0  1.000000e+01       2.0       4.0  11689.376908  1.276440e+04   \n",
              "16  73573.0  1.000000e+01       1.0       4.0   6403.212786  6.460788e+03   \n",
              "17  73574.0  3.300000e+01       2.0       6.0  14155.313000  1.539722e+04   \n",
              "18  73575.0  1.000000e+00       1.0       4.0   7574.950558  7.721542e+03   \n",
              "19  73576.0  1.600000e+01       1.0       4.0  12433.748735  1.266577e+04   \n",
              "20  73577.0  3.200000e+01       1.0       1.0  36284.650273  3.973502e+04   \n",
              "21  73578.0  1.800000e+01       1.0       1.0  11592.846429  1.175863e+04   \n",
              "22  73579.0  1.200000e+01       2.0       3.0  63248.989522  7.070803e+04   \n",
              "23  73580.0  3.800000e+01       2.0       4.0  27388.920690  2.719664e+04   \n",
              "24  73581.0  5.000000e+01       1.0       6.0  15902.418122  1.676426e+04   \n",
              "25  73582.0  2.300000e+01       2.0       4.0  30197.081366  3.118189e+04   \n",
              "26  73583.0  7.000000e+00       2.0       3.0  47574.649392  4.819641e+04   \n",
              "27  73584.0  1.300000e+01       1.0       3.0  72700.381729  7.218224e+04   \n",
              "28  73585.0  2.800000e+01       1.0       6.0  18063.143861  1.859097e+04   \n",
              "29  73586.0  4.000000e+00       2.0       6.0  11635.240800  1.356968e+04   \n",
              "\n",
              "    DR1TCARB  DR1TTFAT  BMXWT  BMXBMI   BMXHT  LBXGH  LBXGLU  LBDGLUSI  \n",
              "0     239.59     52.81   78.3    26.7  171.30   13.9     NaN       NaN  \n",
              "1     423.78    124.29   89.5    28.6  176.80    9.1     NaN       NaN  \n",
              "2     224.39     65.97   88.9    28.9  175.30    8.9   193.0    10.713  \n",
              "3     162.92     58.27   32.2    17.1  137.30    NaN     NaN       NaN  \n",
              "4     178.20     55.36   52.0    19.7  162.40    4.9   107.0     5.940  \n",
              "5     189.59     93.92  105.0    41.7  158.70    5.5     NaN       NaN  \n",
              "6        NaN       NaN    7.4     NaN     NaN    NaN     NaN       NaN  \n",
              "7     300.16     91.03   93.4    35.7  161.80    5.5   110.0     6.106  \n",
              "8        NaN       NaN    NaN     NaN     NaN    NaN     NaN       NaN  \n",
              "9     226.32     41.31   61.8    26.5  152.80    5.4     NaN       NaN  \n",
              "10    216.59     82.95   65.3    22.0  172.40    5.2     NaN       NaN  \n",
              "11    227.63    172.21   47.1    20.3  152.50    5.2    89.0     4.940  \n",
              "12       NaN       NaN    NaN     NaN     NaN    NaN     NaN       NaN  \n",
              "13    299.48     81.19   31.9    17.4  135.50    NaN     NaN       NaN  \n",
              "14    150.93     39.68  102.4    34.4  172.50    6.9     NaN       NaN  \n",
              "15    178.12     78.54   41.7    19.7  145.40    NaN     NaN       NaN  \n",
              "16       NaN       NaN   50.1    20.0  158.38    NaN     NaN       NaN  \n",
              "17    575.61    249.49   56.8    22.8  158.00    5.0    84.0     4.663  \n",
              "18    124.92     32.08    9.4     NaN     NaN    NaN     NaN       NaN  \n",
              "19    145.46     25.14   67.3    23.2  170.40    5.1    89.0     4.940  \n",
              "20    385.05    121.74   79.7    28.9  166.20    5.3   104.0     5.773  \n",
              "21    113.89     18.24  109.4    35.6  175.20    NaN     NaN       NaN  \n",
              "22    211.42     60.80   40.2    15.5  161.00    5.5     NaN       NaN  \n",
              "23    305.69     97.72   93.5    35.9  161.40    5.8   103.0     5.718  \n",
              "24    534.92     63.95   80.9    23.6  185.00    5.0   110.0     6.106  \n",
              "25       NaN       NaN   46.7    18.6  158.30    NaN     NaN       NaN  \n",
              "26     94.60     12.20   19.7    14.4  116.90    NaN     NaN       NaN  \n",
              "27     87.44     29.36   53.1    25.3  144.90    5.4     NaN       NaN  \n",
              "28    175.42     80.46   92.2    30.1  175.10    5.0     NaN       NaN  \n",
              "29     93.32     37.64   18.6    15.5  109.40    NaN     NaN       NaN  "
            ]
          },
          "metadata": {
            "tags": []
          },
          "execution_count": 56
        }
      ]
    },
    {
      "metadata": {
        "id": "XGn6vDRCIqaH",
        "colab_type": "code",
        "colab": {
          "autoexec": {
            "startup": false,
            "wait_interval": 0
          },
          "base_uri": "https://localhost:8080/",
          "height": 77
        },
        "outputId": "274bb774-707a-43fd-c27c-3d156b15a8de",
        "executionInfo": {
          "status": "ok",
          "timestamp": 1529901433612,
          "user_tz": -540,
          "elapsed": 553,
          "user": {
            "displayName": "渡辺剛志",
            "photoUrl": "//lh3.googleusercontent.com/-Y8lP9fDW5vI/AAAAAAAAAAI/AAAAAAAAAFw/1IlolMsOgZI/s50-c-k-no/photo.jpg",
            "userId": "104385516219516651552"
          }
        }
      },
      "cell_type": "code",
      "source": [
        "#Q2----------\n",
        "#Delete some columns\n",
        "del_cols = [\"RIDRETH3\",\"WTINT2YR\",\"WTMEC2YR\",\n",
        "            \"DR1TCARB\",\"DR1TTFAT\",\"LBXGLU\",\n",
        "            \"BMXHT\"]\n",
        "df = df.drop(del_cols, axis=1)\n",
        "df.iloc[0:1,:]"
      ],
      "execution_count": 57,
      "outputs": [
        {
          "output_type": "execute_result",
          "data": {
            "text/html": [
              "<div>\n",
              "<style scoped>\n",
              "    .dataframe tbody tr th:only-of-type {\n",
              "        vertical-align: middle;\n",
              "    }\n",
              "\n",
              "    .dataframe tbody tr th {\n",
              "        vertical-align: top;\n",
              "    }\n",
              "\n",
              "    .dataframe thead th {\n",
              "        text-align: right;\n",
              "    }\n",
              "</style>\n",
              "<table border=\"1\" class=\"dataframe\">\n",
              "  <thead>\n",
              "    <tr style=\"text-align: right;\">\n",
              "      <th></th>\n",
              "      <th>SEQN</th>\n",
              "      <th>RIDAGEYR</th>\n",
              "      <th>RIAGENDR</th>\n",
              "      <th>BMXWT</th>\n",
              "      <th>BMXBMI</th>\n",
              "      <th>LBXGH</th>\n",
              "      <th>LBDGLUSI</th>\n",
              "    </tr>\n",
              "  </thead>\n",
              "  <tbody>\n",
              "    <tr>\n",
              "      <th>0</th>\n",
              "      <td>73557.0</td>\n",
              "      <td>69.0</td>\n",
              "      <td>1.0</td>\n",
              "      <td>78.3</td>\n",
              "      <td>26.7</td>\n",
              "      <td>13.9</td>\n",
              "      <td>NaN</td>\n",
              "    </tr>\n",
              "  </tbody>\n",
              "</table>\n",
              "</div>"
            ],
            "text/plain": [
              "      SEQN  RIDAGEYR  RIAGENDR  BMXWT  BMXBMI  LBXGH  LBDGLUSI\n",
              "0  73557.0      69.0       1.0   78.3    26.7   13.9       NaN"
            ]
          },
          "metadata": {
            "tags": []
          },
          "execution_count": 57
        }
      ]
    },
    {
      "metadata": {
        "id": "38_pxC_DLzMQ",
        "colab_type": "code",
        "colab": {
          "autoexec": {
            "startup": false,
            "wait_interval": 0
          },
          "base_uri": "https://localhost:8080/",
          "height": 34
        },
        "outputId": "8ca62194-f911-4810-9c2d-c49d400f2a09",
        "executionInfo": {
          "status": "ok",
          "timestamp": 1529901434201,
          "user_tz": -540,
          "elapsed": 515,
          "user": {
            "displayName": "渡辺剛志",
            "photoUrl": "//lh3.googleusercontent.com/-Y8lP9fDW5vI/AAAAAAAAAAI/AAAAAAAAAFw/1IlolMsOgZI/s50-c-k-no/photo.jpg",
            "userId": "104385516219516651552"
          }
        }
      },
      "cell_type": "code",
      "source": [
        "#Q3----------\n",
        "#Change column name\n",
        "df.columns = [\"SEQN\",\"Age\",\"Gender\",\"Body_weight\",\"BMI\",\"HbA1c\",\"Glucose\"]\n",
        "df.columns"
      ],
      "execution_count": 58,
      "outputs": [
        {
          "output_type": "execute_result",
          "data": {
            "text/plain": [
              "Index(['SEQN', 'Age', 'Gender', 'Body_weight', 'BMI', 'HbA1c', 'Glucose'], dtype='object')"
            ]
          },
          "metadata": {
            "tags": []
          },
          "execution_count": 58
        }
      ]
    },
    {
      "metadata": {
        "id": "MGZHJ0lNMli0",
        "colab_type": "code",
        "colab": {
          "autoexec": {
            "startup": false,
            "wait_interval": 0
          },
          "base_uri": "https://localhost:8080/",
          "height": 52
        },
        "outputId": "22bd0709-9f48-4937-9a6c-488353afe1d2",
        "executionInfo": {
          "status": "ok",
          "timestamp": 1529901434766,
          "user_tz": -540,
          "elapsed": 500,
          "user": {
            "displayName": "渡辺剛志",
            "photoUrl": "//lh3.googleusercontent.com/-Y8lP9fDW5vI/AAAAAAAAAAI/AAAAAAAAAFw/1IlolMsOgZI/s50-c-k-no/photo.jpg",
            "userId": "104385516219516651552"
          }
        }
      },
      "cell_type": "code",
      "source": [
        "#Q4----------\n",
        "#Delete NaN data\n",
        "print(\"欠損値除去前行数: \" + str(len(df.index)) + \"行\")\n",
        "df = df.dropna()\n",
        "print(\"欠損値除去後行数: \" + str(len(df.index)) + \"行\")"
      ],
      "execution_count": 59,
      "outputs": [
        {
          "output_type": "stream",
          "text": [
            "欠損値除去前行数: 10175行\n",
            "欠損値除去後行数: 3138行\n"
          ],
          "name": "stdout"
        }
      ]
    },
    {
      "metadata": {
        "id": "cMHfBYZmOsRw",
        "colab_type": "code",
        "colab": {
          "autoexec": {
            "startup": false,
            "wait_interval": 0
          },
          "base_uri": "https://localhost:8080/",
          "height": 77
        },
        "outputId": "41762a68-7ce4-48ca-e382-4ee72c004e89",
        "executionInfo": {
          "status": "ok",
          "timestamp": 1529901838663,
          "user_tz": -540,
          "elapsed": 535,
          "user": {
            "displayName": "渡辺剛志",
            "photoUrl": "//lh3.googleusercontent.com/-Y8lP9fDW5vI/AAAAAAAAAAI/AAAAAAAAAFw/1IlolMsOgZI/s50-c-k-no/photo.jpg",
            "userId": "104385516219516651552"
          }
        }
      },
      "cell_type": "code",
      "source": [
        "#Q5----------\n",
        "#Add \"Height\"\n",
        "df[\"Height\"] = round(np.sqrt(df[\"Body_weight\"] / df[\"BMI\"]), 2)\n",
        "df.iloc[0:1,:]"
      ],
      "execution_count": 68,
      "outputs": [
        {
          "output_type": "execute_result",
          "data": {
            "text/html": [
              "<div>\n",
              "<style scoped>\n",
              "    .dataframe tbody tr th:only-of-type {\n",
              "        vertical-align: middle;\n",
              "    }\n",
              "\n",
              "    .dataframe tbody tr th {\n",
              "        vertical-align: top;\n",
              "    }\n",
              "\n",
              "    .dataframe thead th {\n",
              "        text-align: right;\n",
              "    }\n",
              "</style>\n",
              "<table border=\"1\" class=\"dataframe\">\n",
              "  <thead>\n",
              "    <tr style=\"text-align: right;\">\n",
              "      <th></th>\n",
              "      <th>SEQN</th>\n",
              "      <th>Age</th>\n",
              "      <th>Gender</th>\n",
              "      <th>Body_weight</th>\n",
              "      <th>BMI</th>\n",
              "      <th>HbA1c</th>\n",
              "      <th>Glucose</th>\n",
              "      <th>Height</th>\n",
              "    </tr>\n",
              "  </thead>\n",
              "  <tbody>\n",
              "    <tr>\n",
              "      <th>2</th>\n",
              "      <td>73559.0</td>\n",
              "      <td>72.0</td>\n",
              "      <td>1.0</td>\n",
              "      <td>88.9</td>\n",
              "      <td>28.9</td>\n",
              "      <td>8.9</td>\n",
              "      <td>10.713</td>\n",
              "      <td>1.75</td>\n",
              "    </tr>\n",
              "  </tbody>\n",
              "</table>\n",
              "</div>"
            ],
            "text/plain": [
              "      SEQN   Age  Gender  Body_weight   BMI  HbA1c  Glucose  Height\n",
              "2  73559.0  72.0     1.0         88.9  28.9    8.9   10.713    1.75"
            ]
          },
          "metadata": {
            "tags": []
          },
          "execution_count": 68
        }
      ]
    },
    {
      "metadata": {
        "id": "aDUYvFTJQZSO",
        "colab_type": "code",
        "colab": {
          "autoexec": {
            "startup": false,
            "wait_interval": 0
          },
          "base_uri": "https://localhost:8080/",
          "height": 298
        },
        "outputId": "f3896c93-e4c2-491a-b914-ce26b1151937",
        "executionInfo": {
          "status": "ok",
          "timestamp": 1529903965095,
          "user_tz": -540,
          "elapsed": 528,
          "user": {
            "displayName": "渡辺剛志",
            "photoUrl": "//lh3.googleusercontent.com/-Y8lP9fDW5vI/AAAAAAAAAAI/AAAAAAAAAFw/1IlolMsOgZI/s50-c-k-no/photo.jpg",
            "userId": "104385516219516651552"
          }
        }
      },
      "cell_type": "code",
      "source": [
        "#Q6----------\n",
        "#Calculate Median, Variance\n",
        "#A) Meanは平均値,Medianは中央値\n",
        "print(\"Median:\")\n",
        "print(df.iloc[:,1:7].median())\n",
        "print(\"Variance:\")\n",
        "print(round(df.iloc[:,1:7].var(),2))"
      ],
      "execution_count": 111,
      "outputs": [
        {
          "output_type": "stream",
          "text": [
            "Median:\n",
            "Age            43.00\n",
            "Gender          2.00\n",
            "Body_weight    75.20\n",
            "BMI            27.00\n",
            "HbA1c           5.40\n",
            "Glucose         5.44\n",
            "dtype: float64\n",
            "Variance:\n",
            "Age            425.80\n",
            "Gender           0.25\n",
            "Body_weight    521.68\n",
            "BMI             55.19\n",
            "HbA1c            0.97\n",
            "Glucose          3.04\n",
            "dtype: float64\n"
          ],
          "name": "stdout"
        }
      ]
    },
    {
      "metadata": {
        "id": "9fWszReIRulC",
        "colab_type": "code",
        "colab": {
          "autoexec": {
            "startup": false,
            "wait_interval": 0
          },
          "base_uri": "https://localhost:8080/",
          "height": 193
        },
        "outputId": "f10e4105-fa46-42de-b8b5-a603bd313013",
        "executionInfo": {
          "status": "ok",
          "timestamp": 1529902341522,
          "user_tz": -540,
          "elapsed": 823,
          "user": {
            "displayName": "渡辺剛志",
            "photoUrl": "//lh3.googleusercontent.com/-Y8lP9fDW5vI/AAAAAAAAAAI/AAAAAAAAAFw/1IlolMsOgZI/s50-c-k-no/photo.jpg",
            "userId": "104385516219516651552"
          }
        }
      },
      "cell_type": "code",
      "source": [
        "#Q7----------\n",
        "#Calculate Mean, Min&Max, Quantiles, Standerd deviation\n",
        "print(round(df.iloc[:,1:7].describe(),2))"
      ],
      "execution_count": 77,
      "outputs": [
        {
          "output_type": "stream",
          "text": [
            "Median:\n",
            "           Age   Gender  Body_weight      BMI    HbA1c  Glucose\n",
            "count  3138.00  3138.00      3138.00  3138.00  3138.00  3138.00\n",
            "mean     43.21     1.52        78.59    28.14     5.64     5.82\n",
            "std      20.63     0.50        22.84     7.43     0.98     1.74\n",
            "min      12.00     1.00        30.10    13.40     3.50     2.83\n",
            "25%      24.00     1.00        62.80    22.90     5.20     5.05\n",
            "50%      43.00     2.00        75.20    27.00     5.40     5.44\n",
            "75%      60.00     2.00        90.00    31.60     5.80     5.94\n",
            "max      80.00     2.00       201.60    82.90    15.40    23.37\n"
          ],
          "name": "stdout"
        }
      ]
    },
    {
      "metadata": {
        "id": "Iv10CvF5Sany",
        "colab_type": "code",
        "colab": {
          "autoexec": {
            "startup": false,
            "wait_interval": 0
          },
          "base_uri": "https://localhost:8080/",
          "height": 34
        },
        "outputId": "f1b4cb98-2c5b-44cb-fb43-873397cbb329",
        "executionInfo": {
          "status": "ok",
          "timestamp": 1529902886844,
          "user_tz": -540,
          "elapsed": 779,
          "user": {
            "displayName": "渡辺剛志",
            "photoUrl": "//lh3.googleusercontent.com/-Y8lP9fDW5vI/AAAAAAAAAAI/AAAAAAAAAFw/1IlolMsOgZI/s50-c-k-no/photo.jpg",
            "userId": "104385516219516651552"
          }
        }
      },
      "cell_type": "code",
      "source": [
        "#Q8----------\n",
        "#Create df_lim\n",
        "df_lim = df[(df[\"Age\"]>=20) &\n",
        "            (df[\"BMI\"]>=18) & (df[\"BMI\"]<=50) &\n",
        "            (df[\"Glucose\"]>=4) & (df[\"Glucose\"]<=16) & \n",
        "            (df[\"HbA1c\"]>=4) & (df[\"HbA1c\"]<=10)]\n",
        "print(\"df_limの行数: \" + str(len(df_lim.index)) + \"行\")"
      ],
      "execution_count": 83,
      "outputs": [
        {
          "output_type": "stream",
          "text": [
            "df_limの行数: 2406行\n"
          ],
          "name": "stdout"
        }
      ]
    },
    {
      "metadata": {
        "id": "Hke2aeajUZk1",
        "colab_type": "code",
        "colab": {
          "autoexec": {
            "startup": false,
            "wait_interval": 0
          },
          "base_uri": "https://localhost:8080/",
          "height": 52
        },
        "outputId": "b7d9b2ec-ea03-4e91-9d5d-4a96893a29da",
        "executionInfo": {
          "status": "ok",
          "timestamp": 1529904908565,
          "user_tz": -540,
          "elapsed": 535,
          "user": {
            "displayName": "渡辺剛志",
            "photoUrl": "//lh3.googleusercontent.com/-Y8lP9fDW5vI/AAAAAAAAAAI/AAAAAAAAAFw/1IlolMsOgZI/s50-c-k-no/photo.jpg",
            "userId": "104385516219516651552"
          }
        }
      },
      "cell_type": "code",
      "source": [
        "#Q9----------\n",
        "#Count each genders. Give the difference between ages at 75%\n",
        "print(\"Gender:1 -> \" + str(len(df[(df[\"Age\"]<=60) & (df[\"Gender\"]==1)])))\n",
        "print(\"Gender:2 -> \" + str(len(df[(df[\"Age\"]<=60) & (df[\"Gender\"]==2)])))"
      ],
      "execution_count": 129,
      "outputs": [
        {
          "output_type": "stream",
          "text": [
            "Gender:1 -> 1134\n",
            "Gender:2 -> 1227\n"
          ],
          "name": "stdout"
        }
      ]
    },
    {
      "metadata": {
        "id": "mQc0CsUaUinE",
        "colab_type": "code",
        "colab": {
          "autoexec": {
            "startup": false,
            "wait_interval": 0
          },
          "base_uri": "https://localhost:8080/",
          "height": 77
        },
        "outputId": "deadf0fd-c1ea-4055-a56d-832489a91fa5",
        "executionInfo": {
          "status": "ok",
          "timestamp": 1529903679416,
          "user_tz": -540,
          "elapsed": 579,
          "user": {
            "displayName": "渡辺剛志",
            "photoUrl": "//lh3.googleusercontent.com/-Y8lP9fDW5vI/AAAAAAAAAAI/AAAAAAAAAFw/1IlolMsOgZI/s50-c-k-no/photo.jpg",
            "userId": "104385516219516651552"
          }
        }
      },
      "cell_type": "code",
      "source": [
        "#Q10----------\n",
        "#Create A & B\n",
        "A = df_lim.loc[:,[\"BMI\"]]\n",
        "B = df_lim.loc[:,[\"Body_weight\",\"Glucose\"]]\n",
        "temp = pd.merge(A, B, left_index=True, right_index=True).reset_index().iloc[:,1:4]\n",
        "temp.iloc[0:1,:]"
      ],
      "execution_count": 105,
      "outputs": [
        {
          "output_type": "execute_result",
          "data": {
            "text/html": [
              "<div>\n",
              "<style scoped>\n",
              "    .dataframe tbody tr th:only-of-type {\n",
              "        vertical-align: middle;\n",
              "    }\n",
              "\n",
              "    .dataframe tbody tr th {\n",
              "        vertical-align: top;\n",
              "    }\n",
              "\n",
              "    .dataframe thead th {\n",
              "        text-align: right;\n",
              "    }\n",
              "</style>\n",
              "<table border=\"1\" class=\"dataframe\">\n",
              "  <thead>\n",
              "    <tr style=\"text-align: right;\">\n",
              "      <th></th>\n",
              "      <th>BMI</th>\n",
              "      <th>Body_weight</th>\n",
              "      <th>Glucose</th>\n",
              "    </tr>\n",
              "  </thead>\n",
              "  <tbody>\n",
              "    <tr>\n",
              "      <th>0</th>\n",
              "      <td>28.9</td>\n",
              "      <td>88.9</td>\n",
              "      <td>10.713</td>\n",
              "    </tr>\n",
              "  </tbody>\n",
              "</table>\n",
              "</div>"
            ],
            "text/plain": [
              "    BMI  Body_weight  Glucose\n",
              "0  28.9         88.9   10.713"
            ]
          },
          "metadata": {
            "tags": []
          },
          "execution_count": 105
        }
      ]
    },
    {
      "metadata": {
        "id": "e7t1AzUqXbAX",
        "colab_type": "code",
        "colab": {
          "autoexec": {
            "startup": false,
            "wait_interval": 0
          },
          "base_uri": "https://localhost:8080/",
          "height": 1548
        },
        "outputId": "b7069bdd-a272-41da-ef45-1f164b5e84e5",
        "executionInfo": {
          "status": "ok",
          "timestamp": 1529904974960,
          "user_tz": -540,
          "elapsed": 546,
          "user": {
            "displayName": "渡辺剛志",
            "photoUrl": "//lh3.googleusercontent.com/-Y8lP9fDW5vI/AAAAAAAAAAI/AAAAAAAAAFw/1IlolMsOgZI/s50-c-k-no/photo.jpg",
            "userId": "104385516219516651552"
          }
        }
      },
      "cell_type": "code",
      "source": [
        "#Q11----------\n",
        "#Display some data from df_lim\n",
        "print(\"34th row:\")\n",
        "print(df_lim.iloc[[33],:])\n",
        "print(\"\\n3rd column:\")\n",
        "print(df_lim.iloc[:,[2]])\n",
        "print(\"\\n57th row and 4th column\")\n",
        "print(df_lim.iloc[56,3])\n",
        "print(\"\\n50, 100, 250th rows and 1st and 4th columns\")\n",
        "print(df_lim.iloc[[49,99,249],[0,3]])\n",
        "print(\"\\n57th row and 2nd, 3rd and 5th columns\")\n",
        "print(df_lim.iloc[56,[1,2,4]])\n",
        "print(\"\\n128th row of Body_weight\")\n",
        "print(df_lim.iloc[127,3])"
      ],
      "execution_count": 131,
      "outputs": [
        {
          "output_type": "stream",
          "text": [
            "34th row:\n",
            "        SEQN   Age  Gender  Body_weight   BMI  HbA1c  Glucose  Height\n",
            "131  73688.0  58.0     1.0         97.1  33.6    5.5    5.829     1.7\n",
            "\n",
            "3rd column:\n",
            "       Gender\n",
            "2         1.0\n",
            "4         2.0\n",
            "7         2.0\n",
            "11        2.0\n",
            "17        2.0\n",
            "20        1.0\n",
            "23        2.0\n",
            "24        1.0\n",
            "39        2.0\n",
            "41        1.0\n",
            "43        1.0\n",
            "50        1.0\n",
            "53        1.0\n",
            "61        2.0\n",
            "62        2.0\n",
            "64        1.0\n",
            "76        2.0\n",
            "81        2.0\n",
            "82        1.0\n",
            "83        2.0\n",
            "85        2.0\n",
            "90        2.0\n",
            "98        1.0\n",
            "99        1.0\n",
            "102       2.0\n",
            "104       1.0\n",
            "106       1.0\n",
            "110       1.0\n",
            "111       2.0\n",
            "114       1.0\n",
            "...       ...\n",
            "10055     1.0\n",
            "10056     1.0\n",
            "10058     1.0\n",
            "10059     2.0\n",
            "10061     1.0\n",
            "10062     1.0\n",
            "10068     2.0\n",
            "10070     1.0\n",
            "10073     2.0\n",
            "10076     1.0\n",
            "10080     1.0\n",
            "10081     1.0\n",
            "10085     1.0\n",
            "10089     1.0\n",
            "10098     1.0\n",
            "10101     2.0\n",
            "10119     2.0\n",
            "10121     2.0\n",
            "10126     2.0\n",
            "10135     1.0\n",
            "10137     2.0\n",
            "10142     2.0\n",
            "10145     2.0\n",
            "10151     1.0\n",
            "10154     2.0\n",
            "10155     1.0\n",
            "10156     1.0\n",
            "10161     2.0\n",
            "10166     1.0\n",
            "10170     1.0\n",
            "\n",
            "[2406 rows x 1 columns]\n",
            "\n",
            "57th row and 4th column\n",
            "57.3\n",
            "\n",
            "50, 100, 250th rows and 1st and 4th columns\n",
            "         SEQN  Body_weight\n",
            "198   73755.0         61.8\n",
            "435   73992.0         60.1\n",
            "1034  74591.0         83.7\n",
            "\n",
            "57th row and 2nd, 3rd and 5th columns\n",
            "Age       62.0\n",
            "Gender     1.0\n",
            "BMI       18.1\n",
            "Name: 222, dtype: float64\n",
            "\n",
            "128th row of Body_weight\n",
            "80.7\n"
          ],
          "name": "stdout"
        }
      ]
    },
    {
      "metadata": {
        "id": "61Pm_Z4pXmJN",
        "colab_type": "code",
        "colab": {
          "autoexec": {
            "startup": false,
            "wait_interval": 0
          },
          "base_uri": "https://localhost:8080/",
          "height": 935
        },
        "outputId": "04b31529-52b8-4bf1-aeeb-a46cafb8b970",
        "executionInfo": {
          "status": "ok",
          "timestamp": 1529905796462,
          "user_tz": -540,
          "elapsed": 548,
          "user": {
            "displayName": "渡辺剛志",
            "photoUrl": "//lh3.googleusercontent.com/-Y8lP9fDW5vI/AAAAAAAAAAI/AAAAAAAAAFw/1IlolMsOgZI/s50-c-k-no/photo.jpg",
            "userId": "104385516219516651552"
          }
        }
      },
      "cell_type": "code",
      "source": [
        "#Q12----------\n",
        "#Extract as a datatable called extracted rows of multiple of 3 and columns Body_weight and Glucose, and display the first 30 rows of the resulting datatable.\n",
        "df_lim_ = df_lim.loc[:,[\"Body_weight\",\"Glucose\"]].reset_index().iloc[:,1:3]\n",
        "df_lim_ = df_lim_[df_lim_.index % 3 - 2 == 0]\n",
        "df_lim_.iloc[0:30,:]"
      ],
      "execution_count": 142,
      "outputs": [
        {
          "output_type": "execute_result",
          "data": {
            "text/html": [
              "<div>\n",
              "<style scoped>\n",
              "    .dataframe tbody tr th:only-of-type {\n",
              "        vertical-align: middle;\n",
              "    }\n",
              "\n",
              "    .dataframe tbody tr th {\n",
              "        vertical-align: top;\n",
              "    }\n",
              "\n",
              "    .dataframe thead th {\n",
              "        text-align: right;\n",
              "    }\n",
              "</style>\n",
              "<table border=\"1\" class=\"dataframe\">\n",
              "  <thead>\n",
              "    <tr style=\"text-align: right;\">\n",
              "      <th></th>\n",
              "      <th>Body_weight</th>\n",
              "      <th>Glucose</th>\n",
              "    </tr>\n",
              "  </thead>\n",
              "  <tbody>\n",
              "    <tr>\n",
              "      <th>2</th>\n",
              "      <td>93.4</td>\n",
              "      <td>6.106</td>\n",
              "    </tr>\n",
              "    <tr>\n",
              "      <th>5</th>\n",
              "      <td>79.7</td>\n",
              "      <td>5.773</td>\n",
              "    </tr>\n",
              "    <tr>\n",
              "      <th>8</th>\n",
              "      <td>104.0</td>\n",
              "      <td>5.940</td>\n",
              "    </tr>\n",
              "    <tr>\n",
              "      <th>11</th>\n",
              "      <td>111.9</td>\n",
              "      <td>4.940</td>\n",
              "    </tr>\n",
              "    <tr>\n",
              "      <th>14</th>\n",
              "      <td>81.7</td>\n",
              "      <td>4.718</td>\n",
              "    </tr>\n",
              "    <tr>\n",
              "      <th>17</th>\n",
              "      <td>60.9</td>\n",
              "      <td>6.328</td>\n",
              "    </tr>\n",
              "    <tr>\n",
              "      <th>20</th>\n",
              "      <td>95.5</td>\n",
              "      <td>5.329</td>\n",
              "    </tr>\n",
              "    <tr>\n",
              "      <th>23</th>\n",
              "      <td>88.8</td>\n",
              "      <td>4.940</td>\n",
              "    </tr>\n",
              "    <tr>\n",
              "      <th>26</th>\n",
              "      <td>124.8</td>\n",
              "      <td>5.995</td>\n",
              "    </tr>\n",
              "    <tr>\n",
              "      <th>29</th>\n",
              "      <td>58.2</td>\n",
              "      <td>5.662</td>\n",
              "    </tr>\n",
              "    <tr>\n",
              "      <th>32</th>\n",
              "      <td>105.2</td>\n",
              "      <td>4.774</td>\n",
              "    </tr>\n",
              "    <tr>\n",
              "      <th>35</th>\n",
              "      <td>76.0</td>\n",
              "      <td>7.383</td>\n",
              "    </tr>\n",
              "    <tr>\n",
              "      <th>38</th>\n",
              "      <td>123.3</td>\n",
              "      <td>5.662</td>\n",
              "    </tr>\n",
              "    <tr>\n",
              "      <th>41</th>\n",
              "      <td>71.9</td>\n",
              "      <td>4.829</td>\n",
              "    </tr>\n",
              "    <tr>\n",
              "      <th>44</th>\n",
              "      <td>105.5</td>\n",
              "      <td>5.329</td>\n",
              "    </tr>\n",
              "    <tr>\n",
              "      <th>47</th>\n",
              "      <td>73.7</td>\n",
              "      <td>4.996</td>\n",
              "    </tr>\n",
              "    <tr>\n",
              "      <th>50</th>\n",
              "      <td>75.0</td>\n",
              "      <td>5.218</td>\n",
              "    </tr>\n",
              "    <tr>\n",
              "      <th>53</th>\n",
              "      <td>53.0</td>\n",
              "      <td>5.162</td>\n",
              "    </tr>\n",
              "    <tr>\n",
              "      <th>56</th>\n",
              "      <td>57.3</td>\n",
              "      <td>5.440</td>\n",
              "    </tr>\n",
              "    <tr>\n",
              "      <th>59</th>\n",
              "      <td>100.7</td>\n",
              "      <td>5.773</td>\n",
              "    </tr>\n",
              "    <tr>\n",
              "      <th>62</th>\n",
              "      <td>109.2</td>\n",
              "      <td>6.217</td>\n",
              "    </tr>\n",
              "    <tr>\n",
              "      <th>65</th>\n",
              "      <td>70.3</td>\n",
              "      <td>4.774</td>\n",
              "    </tr>\n",
              "    <tr>\n",
              "      <th>68</th>\n",
              "      <td>93.6</td>\n",
              "      <td>4.385</td>\n",
              "    </tr>\n",
              "    <tr>\n",
              "      <th>71</th>\n",
              "      <td>96.8</td>\n",
              "      <td>5.995</td>\n",
              "    </tr>\n",
              "    <tr>\n",
              "      <th>74</th>\n",
              "      <td>69.3</td>\n",
              "      <td>5.718</td>\n",
              "    </tr>\n",
              "    <tr>\n",
              "      <th>77</th>\n",
              "      <td>110.8</td>\n",
              "      <td>10.214</td>\n",
              "    </tr>\n",
              "    <tr>\n",
              "      <th>80</th>\n",
              "      <td>71.9</td>\n",
              "      <td>5.495</td>\n",
              "    </tr>\n",
              "    <tr>\n",
              "      <th>83</th>\n",
              "      <td>68.8</td>\n",
              "      <td>5.162</td>\n",
              "    </tr>\n",
              "    <tr>\n",
              "      <th>86</th>\n",
              "      <td>92.4</td>\n",
              "      <td>5.218</td>\n",
              "    </tr>\n",
              "    <tr>\n",
              "      <th>89</th>\n",
              "      <td>73.6</td>\n",
              "      <td>6.384</td>\n",
              "    </tr>\n",
              "  </tbody>\n",
              "</table>\n",
              "</div>"
            ],
            "text/plain": [
              "    Body_weight  Glucose\n",
              "2          93.4    6.106\n",
              "5          79.7    5.773\n",
              "8         104.0    5.940\n",
              "11        111.9    4.940\n",
              "14         81.7    4.718\n",
              "17         60.9    6.328\n",
              "20         95.5    5.329\n",
              "23         88.8    4.940\n",
              "26        124.8    5.995\n",
              "29         58.2    5.662\n",
              "32        105.2    4.774\n",
              "35         76.0    7.383\n",
              "38        123.3    5.662\n",
              "41         71.9    4.829\n",
              "44        105.5    5.329\n",
              "47         73.7    4.996\n",
              "50         75.0    5.218\n",
              "53         53.0    5.162\n",
              "56         57.3    5.440\n",
              "59        100.7    5.773\n",
              "62        109.2    6.217\n",
              "65         70.3    4.774\n",
              "68         93.6    4.385\n",
              "71         96.8    5.995\n",
              "74         69.3    5.718\n",
              "77        110.8   10.214\n",
              "80         71.9    5.495\n",
              "83         68.8    5.162\n",
              "86         92.4    5.218\n",
              "89         73.6    6.384"
            ]
          },
          "metadata": {
            "tags": []
          },
          "execution_count": 142
        }
      ]
    },
    {
      "metadata": {
        "id": "jYTS2NM7Xo8v",
        "colab_type": "code",
        "colab": {
          "autoexec": {
            "startup": false,
            "wait_interval": 0
          },
          "base_uri": "https://localhost:8080/",
          "height": 225
        },
        "outputId": "dbb39cf6-50df-4c85-f271-b4d59eb114a8",
        "executionInfo": {
          "status": "ok",
          "timestamp": 1529908793359,
          "user_tz": -540,
          "elapsed": 533,
          "user": {
            "displayName": "渡辺剛志",
            "photoUrl": "//lh3.googleusercontent.com/-Y8lP9fDW5vI/AAAAAAAAAAI/AAAAAAAAAFw/1IlolMsOgZI/s50-c-k-no/photo.jpg",
            "userId": "104385516219516651552"
          }
        }
      },
      "cell_type": "code",
      "source": [
        "#Q13----------\n",
        "#6subgroup\n",
        "age_1 = df_lim[(df_lim[\"Age\"]>=20) & (df_lim[\"Age\"]<40) & (df_lim[\"Gender\"]==1)]\n",
        "age_2 = df_lim[(df_lim[\"Age\"]>=20) & (df_lim[\"Age\"]<40) & (df_lim[\"Gender\"]==2)]\n",
        "age_3 = df_lim[(df_lim[\"Age\"]>=40) & (df_lim[\"Age\"]<60) & (df_lim[\"Gender\"]==1)]\n",
        "age_4 = df_lim[(df_lim[\"Age\"]>=40) & (df_lim[\"Age\"]<60) & (df_lim[\"Gender\"]==2)]\n",
        "age_5 = df_lim[(df_lim[\"Age\"]>=60) & (df_lim[\"Gender\"]==1)]\n",
        "age_6 = df_lim[(df_lim[\"Age\"]>=60) & (df_lim[\"Gender\"]==2)]\n",
        "subgroup_dict = {\"age_1\":age_1, \"age_2\":age_2, \"age_3\":age_3,\n",
        "                 \"age_4\":age_4, \"age_5\":age_5, \"age_6\":age_6}\n",
        "subgroup_count = {\"age_1\":len(age_1.index), \"age_2\":len(age_2.index), \"age_3\":len(age_3.index),\n",
        "                  \"age_4\":len(age_4.index), \"age_5\":len(age_5.index), \"age_6\":len(age_6.index)}\n",
        "subgroup_count = pd.DataFrame.from_dict(subgroup_count, orient='index')\n",
        "subgroup_count"
      ],
      "execution_count": 187,
      "outputs": [
        {
          "output_type": "execute_result",
          "data": {
            "text/html": [
              "<div>\n",
              "<style scoped>\n",
              "    .dataframe tbody tr th:only-of-type {\n",
              "        vertical-align: middle;\n",
              "    }\n",
              "\n",
              "    .dataframe tbody tr th {\n",
              "        vertical-align: top;\n",
              "    }\n",
              "\n",
              "    .dataframe thead th {\n",
              "        text-align: right;\n",
              "    }\n",
              "</style>\n",
              "<table border=\"1\" class=\"dataframe\">\n",
              "  <thead>\n",
              "    <tr style=\"text-align: right;\">\n",
              "      <th></th>\n",
              "      <th>0</th>\n",
              "    </tr>\n",
              "  </thead>\n",
              "  <tbody>\n",
              "    <tr>\n",
              "      <th>age_1</th>\n",
              "      <td>374</td>\n",
              "    </tr>\n",
              "    <tr>\n",
              "      <th>age_2</th>\n",
              "      <td>396</td>\n",
              "    </tr>\n",
              "    <tr>\n",
              "      <th>age_3</th>\n",
              "      <td>405</td>\n",
              "    </tr>\n",
              "    <tr>\n",
              "      <th>age_4</th>\n",
              "      <td>435</td>\n",
              "    </tr>\n",
              "    <tr>\n",
              "      <th>age_5</th>\n",
              "      <td>391</td>\n",
              "    </tr>\n",
              "    <tr>\n",
              "      <th>age_6</th>\n",
              "      <td>405</td>\n",
              "    </tr>\n",
              "  </tbody>\n",
              "</table>\n",
              "</div>"
            ],
            "text/plain": [
              "         0\n",
              "age_1  374\n",
              "age_2  396\n",
              "age_3  405\n",
              "age_4  435\n",
              "age_5  391\n",
              "age_6  405"
            ]
          },
          "metadata": {
            "tags": []
          },
          "execution_count": 187
        }
      ]
    },
    {
      "metadata": {
        "id": "8BuuT0bVoOr0",
        "colab_type": "code",
        "colab": {
          "autoexec": {
            "startup": false,
            "wait_interval": 0
          }
        }
      },
      "cell_type": "code",
      "source": [
        ""
      ],
      "execution_count": 0,
      "outputs": []
    },
    {
      "metadata": {
        "id": "TprtNVHUXrXc",
        "colab_type": "code",
        "colab": {
          "autoexec": {
            "startup": false,
            "wait_interval": 0
          }
        }
      },
      "cell_type": "code",
      "source": [
        "#NumPy\n",
        "#Q1----------\n",
        "#Create numpy array\n",
        "bw = np.array(df_lim.loc[:,\"Body_weight\"])\n",
        "gen = np.array(df_lim.loc[:,\"Gender\"])"
      ],
      "execution_count": 0,
      "outputs": []
    },
    {
      "metadata": {
        "id": "r8hTG0wtftpV",
        "colab_type": "code",
        "colab": {
          "autoexec": {
            "startup": false,
            "wait_interval": 0
          }
        }
      },
      "cell_type": "code",
      "source": [
        "#Q2----------\n",
        "#Create demo\n",
        "an = np.array(df_lim.loc[:,\"Age\"])\n",
        "demo = np.array([bw,gen,an])"
      ],
      "execution_count": 0,
      "outputs": []
    },
    {
      "metadata": {
        "id": "jItL6_TwfuFj",
        "colab_type": "code",
        "colab": {
          "autoexec": {
            "startup": false,
            "wait_interval": 0
          },
          "base_uri": "https://localhost:8080/",
          "height": 70
        },
        "outputId": "941598c9-eb69-4dca-853f-affdaecd7c42",
        "executionInfo": {
          "status": "ok",
          "timestamp": 1529906255869,
          "user_tz": -540,
          "elapsed": 540,
          "user": {
            "displayName": "渡辺剛志",
            "photoUrl": "//lh3.googleusercontent.com/-Y8lP9fDW5vI/AAAAAAAAAAI/AAAAAAAAAFw/1IlolMsOgZI/s50-c-k-no/photo.jpg",
            "userId": "104385516219516651552"
          }
        }
      },
      "cell_type": "code",
      "source": [
        "#Q3----------\n",
        "#show #2\n",
        "demo"
      ],
      "execution_count": 150,
      "outputs": [
        {
          "output_type": "execute_result",
          "data": {
            "text/plain": [
              "array([[88.9, 52. , 93.4, ..., 74.7, 99.5, 71.8],\n",
              "       [ 1. ,  2. ,  2. , ...,  2. ,  1. ,  1. ],\n",
              "       [72. , 73. , 61. , ..., 60. , 61. , 26. ]])"
            ]
          },
          "metadata": {
            "tags": []
          },
          "execution_count": 150
        }
      ]
    },
    {
      "metadata": {
        "id": "BI-q4uwHfxYJ",
        "colab_type": "code",
        "colab": {
          "autoexec": {
            "startup": false,
            "wait_interval": 0
          }
        }
      },
      "cell_type": "code",
      "source": [
        "#Q4----------\n",
        "#convert to df\n",
        "df_demo = pd.DataFrame(demo.T)\n",
        "df_demo[\"Row_i\"] = df_demo.index + 1\n",
        "df_demo.columns = [\"bw\",\"gen\",\"an\",\"Row_i\"]\n",
        "df_demo = df_demo.loc[:,[\"Row_i\",\"bw\",\"gen\",\"an\"]]"
      ],
      "execution_count": 0,
      "outputs": []
    },
    {
      "metadata": {
        "id": "6h4MZh1tfyPY",
        "colab_type": "code",
        "colab": {
          "autoexec": {
            "startup": false,
            "wait_interval": 0
          },
          "base_uri": "https://localhost:8080/",
          "height": 87
        },
        "outputId": "bf41fbb5-beef-49d7-98f4-a9099c8a1e50",
        "executionInfo": {
          "status": "ok",
          "timestamp": 1529907139568,
          "user_tz": -540,
          "elapsed": 549,
          "user": {
            "displayName": "渡辺剛志",
            "photoUrl": "//lh3.googleusercontent.com/-Y8lP9fDW5vI/AAAAAAAAAAI/AAAAAAAAAFw/1IlolMsOgZI/s50-c-k-no/photo.jpg",
            "userId": "104385516219516651552"
          }
        }
      },
      "cell_type": "code",
      "source": [
        "#Q5----------\n",
        "print(\"gender:1 ave.bw \" + str(df_demo[df_demo[\"gen\"] == 1].loc[:,\"bw\"].mean()))\n",
        "print(\"gender:2 ave.bw \" + str(df_demo[df_demo[\"gen\"] == 2].loc[:,\"bw\"].mean()))\n",
        "print(\"-> gender:2 is maybe female\")\n",
        "print(\"# of under50kg females: \" + str(len(df_demo[(df_demo[\"gen\"]==2) & (df_demo[\"bw\"]<50)])))"
      ],
      "execution_count": 164,
      "outputs": [
        {
          "output_type": "stream",
          "text": [
            "gender:1 ave.bw 85.81538461538462\n",
            "gender:2 ave.bw 75.2457928802589\n",
            "-> gender:2 is maybe female\n",
            "# of under50kg females: 69\n"
          ],
          "name": "stdout"
        }
      ]
    }
  ]
}