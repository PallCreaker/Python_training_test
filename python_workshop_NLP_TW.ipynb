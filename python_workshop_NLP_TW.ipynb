{
  "nbformat": 4,
  "nbformat_minor": 0,
  "metadata": {
    "colab": {
      "name": "python_workshop_NLP_TW.ipynb",
      "version": "0.3.2",
      "views": {},
      "default_view": {},
      "provenance": []
    },
    "kernelspec": {
      "name": "python3",
      "display_name": "Python 3"
    }
  },
  "cells": [
    {
      "metadata": {
        "id": "i_piBLDv6RYd",
        "colab_type": "code",
        "colab": {
          "autoexec": {
            "startup": false,
            "wait_interval": 0
          },
          "base_uri": "https://localhost:8080/",
          "height": 34
        },
        "outputId": "85543da0-f64c-4688-84b6-2d0e5de52c43",
        "executionInfo": {
          "status": "ok",
          "timestamp": 1529993457972,
          "user_tz": -540,
          "elapsed": 513,
          "user": {
            "displayName": "渡辺剛志",
            "photoUrl": "//lh3.googleusercontent.com/-Y8lP9fDW5vI/AAAAAAAAAAI/AAAAAAAAAFw/1IlolMsOgZI/s50-c-k-no/photo.jpg",
            "userId": "104385516219516651552"
          }
        }
      },
      "cell_type": "code",
      "source": [
        "#Set WD\n",
        "cd /content/drive/PwC"
      ],
      "execution_count": 36,
      "outputs": [
        {
          "output_type": "stream",
          "text": [
            "/content/drive/PwC\n"
          ],
          "name": "stdout"
        }
      ]
    },
    {
      "metadata": {
        "id": "uS_jE_Sj6grM",
        "colab_type": "code",
        "colab": {
          "autoexec": {
            "startup": false,
            "wait_interval": 0
          }
        }
      },
      "cell_type": "code",
      "source": [
        "#Set Package\n",
        "import pandas as pd\n",
        "import numpy as np"
      ],
      "execution_count": 0,
      "outputs": []
    },
    {
      "metadata": {
        "id": "2Ln7LqJdX2tx",
        "colab_type": "code",
        "colab": {
          "autoexec": {
            "startup": false,
            "wait_interval": 0
          },
          "base_uri": "https://localhost:8080/",
          "height": 34
        },
        "outputId": "4b63231c-e295-4bd3-db61-a8d6cee3f6ca",
        "executionInfo": {
          "status": "ok",
          "timestamp": 1529987962960,
          "user_tz": -540,
          "elapsed": 592,
          "user": {
            "displayName": "渡辺剛志",
            "photoUrl": "//lh3.googleusercontent.com/-Y8lP9fDW5vI/AAAAAAAAAAI/AAAAAAAAAFw/1IlolMsOgZI/s50-c-k-no/photo.jpg",
            "userId": "104385516219516651552"
          }
        }
      },
      "cell_type": "code",
      "source": [
        "#Q0----------\n",
        "a = \"stressed\"\n",
        "print(a[::-1])"
      ],
      "execution_count": 7,
      "outputs": [
        {
          "output_type": "stream",
          "text": [
            "desserts\n"
          ],
          "name": "stdout"
        }
      ]
    },
    {
      "metadata": {
        "id": "t7vlR3QnYa8G",
        "colab_type": "code",
        "colab": {
          "autoexec": {
            "startup": false,
            "wait_interval": 0
          },
          "base_uri": "https://localhost:8080/",
          "height": 34
        },
        "outputId": "f6fa98bc-1fff-4f3d-eb93-7ce2c8176300",
        "executionInfo": {
          "status": "ok",
          "timestamp": 1529987966293,
          "user_tz": -540,
          "elapsed": 538,
          "user": {
            "displayName": "渡辺剛志",
            "photoUrl": "//lh3.googleusercontent.com/-Y8lP9fDW5vI/AAAAAAAAAAI/AAAAAAAAAFw/1IlolMsOgZI/s50-c-k-no/photo.jpg",
            "userId": "104385516219516651552"
          }
        }
      },
      "cell_type": "code",
      "source": [
        "#Q01---------\n",
        "a = \"パタトクカシー\"\n",
        "print(a[::2])"
      ],
      "execution_count": 8,
      "outputs": [
        {
          "output_type": "stream",
          "text": [
            "パトカー\n"
          ],
          "name": "stdout"
        }
      ]
    },
    {
      "metadata": {
        "id": "r2goLCGiY7Sx",
        "colab_type": "code",
        "colab": {
          "autoexec": {
            "startup": false,
            "wait_interval": 0
          },
          "base_uri": "https://localhost:8080/",
          "height": 34
        },
        "outputId": "18f3529c-a10e-408a-92c5-0bb00c0e0d1d",
        "executionInfo": {
          "status": "ok",
          "timestamp": 1529988184688,
          "user_tz": -540,
          "elapsed": 597,
          "user": {
            "displayName": "渡辺剛志",
            "photoUrl": "//lh3.googleusercontent.com/-Y8lP9fDW5vI/AAAAAAAAAAI/AAAAAAAAAFw/1IlolMsOgZI/s50-c-k-no/photo.jpg",
            "userId": "104385516219516651552"
          }
        }
      },
      "cell_type": "code",
      "source": [
        "#Q02----------\n",
        "a = \"パトカー\"\n",
        "b = \"タクシー\"\n",
        "print(\"\".join(i+j for i, j in zip(a, b)))"
      ],
      "execution_count": 9,
      "outputs": [
        {
          "output_type": "stream",
          "text": [
            "パタトクカシーー\n"
          ],
          "name": "stdout"
        }
      ]
    },
    {
      "metadata": {
        "id": "oBJF7OjdZzfh",
        "colab_type": "code",
        "colab": {
          "autoexec": {
            "startup": false,
            "wait_interval": 0
          },
          "base_uri": "https://localhost:8080/",
          "height": 34
        },
        "outputId": "aa323981-822f-44d7-9575-e80a8013d551",
        "executionInfo": {
          "status": "ok",
          "timestamp": 1529993460883,
          "user_tz": -540,
          "elapsed": 554,
          "user": {
            "displayName": "渡辺剛志",
            "photoUrl": "//lh3.googleusercontent.com/-Y8lP9fDW5vI/AAAAAAAAAAI/AAAAAAAAAFw/1IlolMsOgZI/s50-c-k-no/photo.jpg",
            "userId": "104385516219516651552"
          }
        }
      },
      "cell_type": "code",
      "source": [
        "#Q03----------\n",
        "a = \"Now I need a drink, alcoholic of course, after the heavy lectures involving quantum mechanics.\"\n",
        "count = [len(x.strip(\".,\")) for x in a.split()]\n",
        "count"
      ],
      "execution_count": 39,
      "outputs": [
        {
          "output_type": "execute_result",
          "data": {
            "text/plain": [
              "[3, 1, 4, 1, 5, 9, 2, 6, 5, 3, 5, 8, 9, 7, 9]"
            ]
          },
          "metadata": {
            "tags": []
          },
          "execution_count": 39
        }
      ]
    },
    {
      "metadata": {
        "id": "8YnrdIk7bTI3",
        "colab_type": "code",
        "colab": {
          "autoexec": {
            "startup": false,
            "wait_interval": 0
          },
          "base_uri": "https://localhost:8080/",
          "height": 369
        },
        "outputId": "af19a25e-e863-45d8-90ea-0bbda1c386aa",
        "executionInfo": {
          "status": "ok",
          "timestamp": 1529993461511,
          "user_tz": -540,
          "elapsed": 494,
          "user": {
            "displayName": "渡辺剛志",
            "photoUrl": "//lh3.googleusercontent.com/-Y8lP9fDW5vI/AAAAAAAAAAI/AAAAAAAAAFw/1IlolMsOgZI/s50-c-k-no/photo.jpg",
            "userId": "104385516219516651552"
          }
        }
      },
      "cell_type": "code",
      "source": [
        "#Q04---------\n",
        "a = \"Hi He Lied Because Boron Could Not Oxidize Fluorine. New Nations Might Also Sign Peace Security Clause. Arthur King Can.\"\n",
        "a_ = a.split(\" \")\n",
        "\n",
        "dic = {word[:2-(i in (1,5,6,7,8,9,15,16,19))]:i for i, word in enumerate(a.split(), 1)}\n",
        "dic"
      ],
      "execution_count": 40,
      "outputs": [
        {
          "output_type": "execute_result",
          "data": {
            "text/plain": [
              "{'Al': 13,\n",
              " 'Ar': 18,\n",
              " 'B': 5,\n",
              " 'Be': 4,\n",
              " 'C': 6,\n",
              " 'Ca': 20,\n",
              " 'Cl': 17,\n",
              " 'F': 9,\n",
              " 'H': 1,\n",
              " 'He': 2,\n",
              " 'K': 19,\n",
              " 'Li': 3,\n",
              " 'Mi': 12,\n",
              " 'N': 7,\n",
              " 'Na': 11,\n",
              " 'Ne': 10,\n",
              " 'O': 8,\n",
              " 'P': 15,\n",
              " 'S': 16,\n",
              " 'Si': 14}"
            ]
          },
          "metadata": {
            "tags": []
          },
          "execution_count": 40
        }
      ]
    },
    {
      "metadata": {
        "id": "Q0oPl6cvrOQp",
        "colab_type": "code",
        "colab": {
          "autoexec": {
            "startup": false,
            "wait_interval": 0
          }
        }
      },
      "cell_type": "code",
      "source": [
        "#Q10----------\n",
        "neko = pd.read_csv(\"neko_MeCab.txt\", sep='\\n', header=None)\n",
        "\n",
        "def neko_dic(neko):\n",
        "  for i in range(len(neko)):\n",
        "    neko.iat[i,0] = neko.iat[i,0].split('\\t')\n",
        "\n",
        "  all_dic =[]\n",
        "  for x in range(len(neko.index)):\n",
        "    try:\n",
        "      dic = {'surface':neko.iat[x,0][0],\n",
        "             'base':neko.iat[x,0][1].split(\",\")[6],\n",
        "             'pos':neko.iat[x,0][1].split(\",\")[0],\n",
        "             'pos1':neko.iat[x,0][1].split(\",\")[1]}\n",
        "      all_dic.append(dic)\n",
        "    except:\n",
        "      pass\n",
        "\n",
        "  return all_dic"
      ],
      "execution_count": 0,
      "outputs": []
    },
    {
      "metadata": {
        "id": "_EtQdAlAxp-5",
        "colab_type": "code",
        "colab": {
          "autoexec": {
            "startup": false,
            "wait_interval": 0
          },
          "base_uri": "https://localhost:8080/",
          "height": 195
        },
        "outputId": "f6151482-a925-403a-bc42-7b2f8f7242bd",
        "executionInfo": {
          "status": "ok",
          "timestamp": 1530001961644,
          "user_tz": -540,
          "elapsed": 10574,
          "user": {
            "displayName": "渡辺剛志",
            "photoUrl": "//lh3.googleusercontent.com/-Y8lP9fDW5vI/AAAAAAAAAAI/AAAAAAAAAFw/1IlolMsOgZI/s50-c-k-no/photo.jpg",
            "userId": "104385516219516651552"
          }
        }
      },
      "cell_type": "code",
      "source": [
        "all_dic = pd.DataFrame(neko_dic(neko))\n",
        "all_dic.iloc[0:5,:]"
      ],
      "execution_count": 157,
      "outputs": [
        {
          "output_type": "execute_result",
          "data": {
            "text/html": [
              "<div>\n",
              "<style scoped>\n",
              "    .dataframe tbody tr th:only-of-type {\n",
              "        vertical-align: middle;\n",
              "    }\n",
              "\n",
              "    .dataframe tbody tr th {\n",
              "        vertical-align: top;\n",
              "    }\n",
              "\n",
              "    .dataframe thead th {\n",
              "        text-align: right;\n",
              "    }\n",
              "</style>\n",
              "<table border=\"1\" class=\"dataframe\">\n",
              "  <thead>\n",
              "    <tr style=\"text-align: right;\">\n",
              "      <th></th>\n",
              "      <th>base</th>\n",
              "      <th>pos</th>\n",
              "      <th>pos1</th>\n",
              "      <th>surface</th>\n",
              "    </tr>\n",
              "  </thead>\n",
              "  <tbody>\n",
              "    <tr>\n",
              "      <th>0</th>\n",
              "      <td>一</td>\n",
              "      <td>名詞</td>\n",
              "      <td>数</td>\n",
              "      <td>一</td>\n",
              "    </tr>\n",
              "    <tr>\n",
              "      <th>1</th>\n",
              "      <td></td>\n",
              "      <td>記号</td>\n",
              "      <td>空白</td>\n",
              "      <td></td>\n",
              "    </tr>\n",
              "    <tr>\n",
              "      <th>2</th>\n",
              "      <td>吾輩</td>\n",
              "      <td>名詞</td>\n",
              "      <td>代名詞</td>\n",
              "      <td>吾輩</td>\n",
              "    </tr>\n",
              "    <tr>\n",
              "      <th>3</th>\n",
              "      <td>は</td>\n",
              "      <td>助詞</td>\n",
              "      <td>係助詞</td>\n",
              "      <td>は</td>\n",
              "    </tr>\n",
              "    <tr>\n",
              "      <th>4</th>\n",
              "      <td>猫</td>\n",
              "      <td>名詞</td>\n",
              "      <td>一般</td>\n",
              "      <td>猫</td>\n",
              "    </tr>\n",
              "  </tbody>\n",
              "</table>\n",
              "</div>"
            ],
            "text/plain": [
              "  base pos pos1 surface\n",
              "0    一  名詞    数       一\n",
              "1    　  記号   空白       　\n",
              "2   吾輩  名詞  代名詞      吾輩\n",
              "3    は  助詞  係助詞       は\n",
              "4    猫  名詞   一般       猫"
            ]
          },
          "metadata": {
            "tags": []
          },
          "execution_count": 157
        }
      ]
    },
    {
      "metadata": {
        "id": "DtxmEsfm0vr7",
        "colab_type": "code",
        "colab": {
          "autoexec": {
            "startup": false,
            "wait_interval": 0
          },
          "base_uri": "https://localhost:8080/",
          "height": 34
        },
        "outputId": "aad96380-8b18-4d2c-d9e7-e03903c952a2",
        "executionInfo": {
          "status": "ok",
          "timestamp": 1530001963300,
          "user_tz": -540,
          "elapsed": 657,
          "user": {
            "displayName": "渡辺剛志",
            "photoUrl": "//lh3.googleusercontent.com/-Y8lP9fDW5vI/AAAAAAAAAAI/AAAAAAAAAFw/1IlolMsOgZI/s50-c-k-no/photo.jpg",
            "userId": "104385516219516651552"
          }
        }
      },
      "cell_type": "code",
      "source": [
        "#Q11----------\n",
        "all_dic[all_dic[\"pos\"]==\"動詞\"].loc[:,\"surface\"].unique()"
      ],
      "execution_count": 158,
      "outputs": [
        {
          "output_type": "execute_result",
          "data": {
            "text/plain": [
              "array(['生れ', 'つか', 'し', ..., 'あがり', 'あせっ', '切り落し'], dtype=object)"
            ]
          },
          "metadata": {
            "tags": []
          },
          "execution_count": 158
        }
      ]
    },
    {
      "metadata": {
        "id": "28CZeVRW1rNb",
        "colab_type": "code",
        "colab": {
          "autoexec": {
            "startup": false,
            "wait_interval": 0
          },
          "base_uri": "https://localhost:8080/",
          "height": 34
        },
        "outputId": "0ec8d267-d8c4-46ca-f169-04f9ef5f94d7",
        "executionInfo": {
          "status": "ok",
          "timestamp": 1530001964964,
          "user_tz": -540,
          "elapsed": 841,
          "user": {
            "displayName": "渡辺剛志",
            "photoUrl": "//lh3.googleusercontent.com/-Y8lP9fDW5vI/AAAAAAAAAAI/AAAAAAAAAFw/1IlolMsOgZI/s50-c-k-no/photo.jpg",
            "userId": "104385516219516651552"
          }
        }
      },
      "cell_type": "code",
      "source": [
        "#Q12----------\n",
        "all_dic[all_dic[\"pos\"]==\"動詞\"].loc[:,\"base\"].unique()"
      ],
      "execution_count": 159,
      "outputs": [
        {
          "output_type": "execute_result",
          "data": {
            "text/plain": [
              "array(['生れる', 'つく', 'する', ..., '引掻く', '掻ける', 'のばす'], dtype=object)"
            ]
          },
          "metadata": {
            "tags": []
          },
          "execution_count": 159
        }
      ]
    },
    {
      "metadata": {
        "id": "d96j0l5h1v84",
        "colab_type": "code",
        "colab": {
          "autoexec": {
            "startup": false,
            "wait_interval": 0
          },
          "base_uri": "https://localhost:8080/",
          "height": 34
        },
        "outputId": "a9162557-3309-4a17-e212-3acbc4526ea9",
        "executionInfo": {
          "status": "ok",
          "timestamp": 1530001965928,
          "user_tz": -540,
          "elapsed": 520,
          "user": {
            "displayName": "渡辺剛志",
            "photoUrl": "//lh3.googleusercontent.com/-Y8lP9fDW5vI/AAAAAAAAAAI/AAAAAAAAAFw/1IlolMsOgZI/s50-c-k-no/photo.jpg",
            "userId": "104385516219516651552"
          }
        }
      },
      "cell_type": "code",
      "source": [
        "#Q13----------\n",
        "all_dic[(all_dic[\"pos\"]==\"名詞\") & (all_dic[\"pos1\"]==\"サ変接続\")].loc[:,\"surface\"].unique()"
      ],
      "execution_count": 160,
      "outputs": [
        {
          "output_type": "execute_result",
          "data": {
            "text/plain": [
              "array(['見当', '記憶', '話', ..., '有', '帰臥', '拷問'], dtype=object)"
            ]
          },
          "metadata": {
            "tags": []
          },
          "execution_count": 160
        }
      ]
    },
    {
      "metadata": {
        "id": "LIj3IAoD2OvH",
        "colab_type": "code",
        "colab": {
          "autoexec": {
            "startup": false,
            "wait_interval": 0
          },
          "base_uri": "https://localhost:8080/",
          "height": 17634
        },
        "outputId": "9c474e62-6ba1-446d-a198-b972644c881c",
        "executionInfo": {
          "status": "ok",
          "timestamp": 1530001972894,
          "user_tz": -540,
          "elapsed": 6528,
          "user": {
            "displayName": "渡辺剛志",
            "photoUrl": "//lh3.googleusercontent.com/-Y8lP9fDW5vI/AAAAAAAAAAI/AAAAAAAAAFw/1IlolMsOgZI/s50-c-k-no/photo.jpg",
            "userId": "104385516219516651552"
          }
        }
      },
      "cell_type": "code",
      "source": [
        "#Q14----------\n",
        "result = []\n",
        "for i in range(len(all_dic.index)):\n",
        "  try:\n",
        "    no = all_dic.iloc[i,3]\n",
        "    no1 = all_dic.iloc[i-1,1]\n",
        "    no2 = all_dic.iloc[i+1,1]\n",
        "    if (no == \"の\") & (no1 == \"名詞\") & (no2 == \"名詞\"):\n",
        "      result.append(all_dic.iloc[i-1,3] + no + all_dic.iloc[i+1,3])\n",
        "  except:\n",
        "    pass\n",
        "\n",
        "result"
      ],
      "execution_count": 161,
      "outputs": [
        {
          "output_type": "execute_result",
          "data": {
            "text/plain": [
              "['彼の掌',\n",
              " '掌の上',\n",
              " '書生の顔',\n",
              " 'はずの顔',\n",
              " '顔の真中',\n",
              " '穴の中',\n",
              " '書生の掌',\n",
              " '掌の裏',\n",
              " '何の事',\n",
              " '肝心の母親',\n",
              " '藁の上',\n",
              " '笹原の中',\n",
              " '池の前',\n",
              " '池の上',\n",
              " '一樹の蔭',\n",
              " '垣根の穴',\n",
              " '隣家の三',\n",
              " '時の通路',\n",
              " '一刻の猶予',\n",
              " '家の内',\n",
              " '彼の書生',\n",
              " '以外の人間',\n",
              " '前の書生',\n",
              " 'おさんの隙',\n",
              " 'おさんの三',\n",
              " '胸の痞',\n",
              " '家の主人',\n",
              " '主人の方',\n",
              " '鼻の下',\n",
              " '吾輩の顔',\n",
              " '自分の住',\n",
              " '吾輩の主人',\n",
              " '家のもの',\n",
              " 'うちのもの',\n",
              " '彼の書斎',\n",
              " '本の上',\n",
              " '皮膚の色',\n",
              " '本の上',\n",
              " '彼の毎夜',\n",
              " '以外のもの',\n",
              " '主人の傍',\n",
              " '彼の膝',\n",
              " '膝の上',\n",
              " '経験の上',\n",
              " '飯櫃の上',\n",
              " '炬燵の上',\n",
              " 'ここのうち',\n",
              " '供の寝床',\n",
              " '彼等の中間',\n",
              " '供の一',\n",
              " '例の神経',\n",
              " '性の主人',\n",
              " '次の部屋',\n",
              " '自分の勝手',\n",
              " '吾輩の方',\n",
              " '台所の板の間',\n",
              " '吾輩の尊敬',\n",
              " '向の白',\n",
              " '玉のよう',\n",
              " 'そこの家',\n",
              " '家の書生',\n",
              " '裏の池',\n",
              " '親子の愛',\n",
              " 'もっともの議論',\n",
              " '刺の頭',\n",
              " '鰡の臍',\n",
              " '彼等のため',\n",
              " '軍人の家',\n",
              " '代言の主人',\n",
              " '教師の家',\n",
              " '猫の時節',\n",
              " '吾輩の家',\n",
              " '家の主人',\n",
              " 'だらけの英文',\n",
              " '胃弱の癖',\n",
              " '後架の中',\n",
              " '平の宗',\n",
              " '月の月給',\n",
              " '当分の間',\n",
              " '下のよう',\n",
              " '今更のよう',\n",
              " '主人の述懐',\n",
              " '彼の友',\n",
              " '金縁の眼鏡',\n",
              " '主人の顔',\n",
              " '内の想像',\n",
              " '訳のもの',\n",
              " '利の大家',\n",
              " '金縁の裏',\n",
              " '吾輩の後ろ',\n",
              " '彼の友',\n",
              " '吾輩の輪廓',\n",
              " '顔のあたり',\n",
              " '上乗の出来',\n",
              " '顔の造作',\n",
              " '他の猫',\n",
              " '不器量の吾輩',\n",
              " '吾輩の主人',\n",
              " '斯産の猫',\n",
              " '斑入りの皮膚',\n",
              " '主人の彩色',\n",
              " '一種の色',\n",
              " '身内の筋肉',\n",
              " '主人の予定',\n",
              " '座敷の中',\n",
              " '悪口の言いよう',\n",
              " '人の気',\n",
              " '彼の背中',\n",
              " 'こっちの便利',\n",
              " '自己の力量',\n",
              " '人間の不徳',\n",
              " '吾輩の家',\n",
              " '家の裏',\n",
              " '浩然の気',\n",
              " '小春の穏',\n",
              " '日の二',\n",
              " '茶の木の根',\n",
              " '西側の杉',\n",
              " '垣のそば',\n",
              " '他の庭',\n",
              " '純粋の黒',\n",
              " '彼の皮膚',\n",
              " '皮膚の上',\n",
              " '毛の間',\n",
              " '中の大王',\n",
              " '吾輩の倍',\n",
              " '嘆賞の念',\n",
              " '好奇の心',\n",
              " '彼の前',\n",
              " '小春の風',\n",
              " '垣の上',\n",
              " '梧桐の枝',\n",
              " '枚の葉',\n",
              " '枯菊の茂み',\n",
              " '真丸の眼',\n",
              " '人間の珍重',\n",
              " '双眸の奥',\n",
              " '吾輩の矮小',\n",
              " '額の上',\n",
              " '声の底',\n",
              " '吾輩の心臓',\n",
              " 'ここの教師',\n",
              " '教師の家',\n",
              " '良家の猫',\n",
              " '車屋の黒',\n",
              " '車屋の黒',\n",
              " '主義の的',\n",
              " '彼の名',\n",
              " '軽侮の念',\n",
              " '左の問答',\n",
              " '車屋の方',\n",
              " 'うちの主人',\n",
              " '車屋の猫',\n",
              " 'どこの国',\n",
              " '己の後',\n",
              " '教師の方',\n",
              " '車屋の黒',\n",
              " '相当の気焔',\n",
              " '畠の中',\n",
              " '黒の比較',\n",
              " '彼の鼻',\n",
              " '鼻の先',\n",
              " '彼の気焔',\n",
              " '自分の手柄',\n",
              " '墻壁の欠',\n",
              " '彼の答',\n",
              " '鼠の百',\n",
              " '掃除の時',\n",
              " 'うちの亭主',\n",
              " '石灰の袋',\n",
              " '椽の下',\n",
              " 'たちの野郎',\n",
              " '溝の中',\n",
              " '去年の臭気',\n",
              " '鼻の頭',\n",
              " '反対の結果',\n",
              " 'うちの亭主',\n",
              " '己の御蔭',\n",
              " '無学の黒',\n",
              " '背中の毛',\n",
              " '黒の子分',\n",
              " '以外の御馳走',\n",
              " '教師の家',\n",
              " '教師のよう',\n",
              " '吾輩の主人',\n",
              " '日の日記',\n",
              " '今日の会',\n",
              " '質の人',\n",
              " '人の妻君',\n",
              " '連中のうち',\n",
              " '吾輩の水彩',\n",
              " '屋の酒',\n",
              " '一廉の水彩',\n",
              " '吾輩の水彩',\n",
              " '野暮の方',\n",
              " '芸者の妻君',\n",
              " '愚劣の考',\n",
              " '自己の水彩',\n",
              " '知の明',\n",
              " '日の日記',\n",
              " '元の通り',\n",
              " '夢の裡',\n",
              " '画の未練',\n",
              " '夫子の所',\n",
              " '例の金縁',\n",
              " '眼鏡の美学',\n",
              " '君の忠告',\n",
              " '物の形',\n",
              " '色の精細',\n",
              " '今日のよう',\n",
              " '日記の事',\n",
              " '喜悦の体',\n",
              " '彼の今日',\n",
              " '今日の日記',\n",
              " '唯一の楽',\n",
              " '主人の情',\n",
              " '下のよう',\n",
              " '彼の一世',\n",
              " '会の演説',\n",
              " '時の傍聴',\n",
              " 'ハリソンの歴史',\n",
              " '小説の中',\n",
              " '僕の向う',\n",
              " '性の主人',\n",
              " '化の皮',\n",
              " '別の本',\n",
              " '金縁の眼鏡',\n",
              " '車屋の黒',\n",
              " '寺院の壁',\n",
              " '壁のしみ',\n",
              " '車屋の黒',\n",
              " '彼の光沢',\n",
              " '彼の眼',\n",
              " '吾輩の注意',\n",
              " '彼の元気',\n",
              " '元気の消沈',\n",
              " '例の茶園',\n",
              " '最後の日',\n",
              " 'たちの最後',\n",
              " '屋の天秤棒',\n",
              " '赤松の間',\n",
              " '段の紅',\n",
              " '紅白の山茶花',\n",
              " '半の南',\n",
              " '向の椽側',\n",
              " '冬の日脚',\n",
              " '吾輩の昼寝',\n",
              " '昼寝の時間',\n",
              " '教師の家',\n",
              " '無名の猫',\n",
              " '主人の許',\n",
              " '枚の絵',\n",
              " '彼の交友',\n",
              " '一の動物',\n",
              " '例の書斎',\n",
              " '窓の方',\n",
              " '鼻の先',\n",
              " '端書の色',\n",
              " '動物の正体',\n",
              " '自分の肖像',\n",
              " '主人のよう',\n",
              " '猫の中',\n",
              " '他の猫',\n",
              " '属の言語',\n",
              " '天の恵',\n",
              " '軽侮の口調',\n",
              " '人間の糟',\n",
              " '馬の糞',\n",
              " 'がちの事',\n",
              " '固有の特色',\n",
              " '猫の社会',\n",
              " '界の語',\n",
              " '髯の張り',\n",
              " '耳の立ち',\n",
              " '尻尾の垂れ',\n",
              " '無粋の数',\n",
              " '人間の眼',\n",
              " '吾輩の性質',\n",
              " '相貌の末',\n",
              " '猫の事',\n",
              " '吾輩の主人',\n",
              " '愛の第一義',\n",
              " '吾輩の肖像',\n",
              " '眼の前',\n",
              " '熊の画',\n",
              " '主人の膝',\n",
              " '膝の上',\n",
              " '二の絵',\n",
              " '舶来の猫',\n",
              " '内の一疋',\n",
              " '机の角',\n",
              " '西洋の猫',\n",
              " '日本の墨',\n",
              " '右の側',\n",
              " '猫の春',\n",
              " '猫の年',\n",
              " '三の端書',\n",
              " '吾輩の顔',\n",
              " '尊敬の意',\n",
              " '吾輩の御蔭',\n",
              " '門の格子',\n",
              " '屋の梅',\n",
              " '時のほか',\n",
              " '主人の膝',\n",
              " '玄関の方',\n",
              " '年賀の客',\n",
              " '酒の相手',\n",
              " '牡蠣の根性',\n",
              " '主人の所',\n",
              " '主人のよう',\n",
              " '去年の暮',\n",
              " '羽織の紐',\n",
              " 'どっちの方角',\n",
              " '木綿の紋付',\n",
              " '羽織の袖口',\n",
              " '椎茸の傘',\n",
              " '吾輩の頭',\n",
              " '車屋の黒',\n",
              " 'ピヤノの伴奏',\n",
              " '巌のよう',\n",
              " '実のところ',\n",
              " '大抵の婦人',\n",
              " '婦人の七',\n",
              " '失恋のため',\n",
              " '胃弱のせい',\n",
              " '明治の歴史',\n",
              " '君の女',\n",
              " '口取の蒲鉾',\n",
              " '所の令嬢',\n",
              " '御存じの方',\n",
              " '旅順の陥落',\n",
              " '女連の身元',\n",
              " '木綿の紋付',\n",
              " '兄の紀',\n",
              " '結城紬の綿',\n",
              " '針の目',\n",
              " '主人の服装',\n",
              " '失恋のため',\n",
              " '蒲鉾の残り',\n",
              " '一般の猫',\n",
              " '以後の猫',\n",
              " 'グレーの金魚',\n",
              " '車屋の黒',\n",
              " '蒲鉾の一切',\n",
              " '細君の留守',\n",
              " '前のこと',\n",
              " '麭の幾分',\n",
              " '卓の上',\n",
              " '壺の中',\n",
              " '匙の砂糖',\n",
              " '自分の皿',\n",
              " '皿の上',\n",
              " '分量の砂糖',\n",
              " '自分の皿',\n",
              " '皿の上',\n",
              " '皿の上',\n",
              " '両人の皿',\n",
              " '盛の砂糖',\n",
              " '壺の中',\n",
              " '匙の砂糖',\n",
              " '壺の中',\n",
              " '櫃の上',\n",
              " '櫃の上',\n",
              " '餅の切れ',\n",
              " '最後の一',\n",
              " '椀の中',\n",
              " '主人の威光',\n",
              " '汁の中',\n",
              " '餅の死骸',\n",
              " '袋戸の奥',\n",
              " '卓の上',\n",
              " '質のもの',\n",
              " '独言のよう',\n",
              " '対句のよう',\n",
              " 'ほかの病気',\n",
              " '本当のところ',\n",
              " '細君の肩',\n",
              " '主人の前',\n",
              " '膝の上',\n",
              " '書斎の椽側',\n",
              " '障子の隙',\n",
              " '人の本',\n",
              " '机の上',\n",
              " '下のよう',\n",
              " '池の端',\n",
              " '池の端',\n",
              " '端の待合',\n",
              " '待合の前',\n",
              " '裾模様の春着',\n",
              " 'うちの猫',\n",
              " '丹の角',\n",
              " '撫肩の恰好',\n",
              " '薄紫の衣服',\n",
              " '懐手のまま',\n",
              " '人間の心理',\n",
              " '主人の今',\n",
              " '今の心',\n",
              " '哲人の遺書',\n",
              " '一道の慰安',\n",
              " '無用のもの',\n",
              " '主人のよう',\n",
              " '自己の面目',\n",
              " '真正の日記',\n",
              " '胃の具合',\n",
              " '人間の日記',\n",
              " '日記の本',\n",
              " '彼の説',\n",
              " '胃病の源',\n",
              " '胃病の源',\n",
              " '大抵の胃病',\n",
              " '竜馬のよう',\n",
              " '臓腑の位置',\n",
              " '綿のよう',\n",
              " '腸の中',\n",
              " '胃の働き',\n",
              " '者の迷亭',\n",
              " '何等の功',\n",
              " '年来の胃弱',\n",
              " '限りの方法',\n",
              " '杯の正宗',\n",
              " '主人の心',\n",
              " '吾輩の眼球',\n",
              " '眼球のよう',\n",
              " '日記の上',\n",
              " '一種の見地',\n",
              " 'すべての病気',\n",
              " '父祖の罪悪',\n",
              " '自己の罪悪',\n",
              " '罪悪の結果',\n",
              " 'うちの主人',\n",
              " '自己の面目',\n",
              " '君の説',\n",
              " '自分の胃弱',\n",
              " '違いの挨拶',\n",
              " '胃弱の病人',\n",
              " '大抵のもの',\n",
              " '車屋の黒',\n",
              " '黒のよう',\n",
              " '横丁の肴',\n",
              " '新道の二絃琴',\n",
              " '二絃琴の師匠',\n",
              " '師匠の所',\n",
              " '所の三',\n",
              " '毛のよう',\n",
              " '経験のため',\n",
              " '大抵のもの',\n",
              " '教師の家',\n",
              " '大の贅沢',\n",
              " '口の贅沢',\n",
              " '文章の贅沢',\n",
              " '中の人間',\n",
              " '人間の名',\n",
              " '自分の苦心',\n",
              " '店先の看板',\n",
              " '屋の看板',\n",
              " 'マーカスの上',\n",
              " '友人の迷惑',\n",
              " '中の人間',\n",
              " '人間の名前',\n",
              " '吾輩のよう',\n",
              " '贅沢の結果',\n",
              " '通りの餅',\n",
              " '通りの色',\n",
              " '椀の底',\n",
              " '餅の上皮',\n",
              " '釜の底',\n",
              " '底の飯',\n",
              " '時のよう',\n",
              " 'ものの味',\n",
              " '一の真理',\n",
              " 'すべての動物',\n",
              " '底の様子',\n",
              " '供の足音',\n",
              " '雑煮の事',\n",
              " '椀の中',\n",
              " '全体の重量',\n",
              " '椀の底',\n",
              " '餅の角',\n",
              " '吾輩の主人',\n",
              " '煩悶の際',\n",
              " '二の真理',\n",
              " 'すべての動物',\n",
              " '事物の適',\n",
              " '餅の肉',\n",
              " '供の唱歌',\n",
              " '煩悶の極',\n",
              " '何等の功',\n",
              " '何等の関係',\n",
              " '前足の助け',\n",
              " '右の方',\n",
              " '口の周囲',\n",
              " '訳のもの',\n",
              " '餅の中',\n",
              " '餅の魔',\n",
              " '前足の運動',\n",
              " '三の真理',\n",
              " 'ところのもの',\n",
              " '餅の魔',\n",
              " '縮緬の紋付',\n",
              " '人間の同情',\n",
              " '在来の通り',\n",
              " '時のよう',\n",
              " '餅の中',\n",
              " 'すべての安楽',\n",
              " '四の真理',\n",
              " '新道の二絃琴',\n",
              " 'さんの所',\n",
              " '所の三',\n",
              " '物の情け',\n",
              " '三の険',\n",
              " '異性の朋友',\n",
              " '朋友の許',\n",
              " '女性の影響',\n",
              " '垣の隙',\n",
              " '曲線の美',\n",
              " '端正の態度',\n",
              " '吾輩の傍',\n",
              " '教師の家',\n",
              " '去年の暮',\n",
              " 'あなたのうち',\n",
              " '欣羨の意',\n",
              " '供のよう',\n",
              " '鼻の孔',\n",
              " 'あなたの所',\n",
              " '間の姫小松',\n",
              " '障子の内',\n",
              " '祐筆の妹',\n",
              " 'かさんの甥',\n",
              " '甥の娘',\n",
              " '祐筆の妹',\n",
              " '様の妹',\n",
              " '祐筆の妹',\n",
              " 'かさんの甥',\n",
              " '甥の娘',\n",
              " 'かさんの甥',\n",
              " '甥の娘',\n",
              " '様の何',\n",
              " '祐筆の妹',\n",
              " 'かさんの甥',\n",
              " '甥の娘',\n",
              " '理詰の虚言',\n",
              " '障子の中',\n",
              " '二絃琴の音',\n",
              " 'さんの声',\n",
              " '雑煮の元気',\n",
              " '例の茶園',\n",
              " '建仁寺の崩れ',\n",
              " '車屋の黒',\n",
              " '枯菊の上',\n",
              " '黒の性質',\n",
              " '教師の飯',\n",
              " '吾輩の有名',\n",
              " '子の向う',\n",
              " '罵詈の言語',\n",
              " '子の何とか',\n",
              " '参考のため',\n",
              " '手持無沙汰の体',\n",
              " '黒のうち',\n",
              " 'うちの神',\n",
              " '黒の畜生',\n",
              " '初春の長閑',\n",
              " '彼の足',\n",
              " '足の下',\n",
              " '鮭の骨',\n",
              " 'しゃけの一切',\n",
              " '車屋の黒',\n",
              " '腕まくりの代り',\n",
              " '右の前足',\n",
              " '肩の辺',\n",
              " '例の神',\n",
              " 'さんの大声',\n",
              " '注文の声',\n",
              " '四隣の寂寞',\n",
              " '挨拶のしよう',\n",
              " '自分のため',\n",
              " '本当の御馳走',\n",
              " '吾輩の頭',\n",
              " 'からだの泥',\n",
              " '西川の牛',\n",
              " '座敷の中',\n",
              " '主人の笑い声',\n",
              " '主人の傍',\n",
              " '木綿の紋付',\n",
              " '紋付の羽織',\n",
              " '小倉の袴',\n",
              " '体の男',\n",
              " '主人の手',\n",
              " '塗りの巻煙草',\n",
              " '客の名前',\n",
              " '君の友人',\n",
              " '主客の対話',\n",
              " '君の事',\n",
              " '客の前',\n",
              " '方の事',\n",
              " '膝の上',\n",
              " '吾輩の頭',\n",
              " 'ボイの方',\n",
              " '鴨のロース',\n",
              " '小牛のチャップ',\n",
              " '私の方',\n",
              " 'つもりのところ',\n",
              " 'なめくじのソップ',\n",
              " '蛙のシチュ',\n",
              " 'シチュの形容',\n",
              " '花瓶の水仙',\n",
              " '残念の気色',\n",
              " '何の気',\n",
              " '客の謝罪',\n",
              " '通りの西洋',\n",
              " '戦争の通信',\n",
              " 'トチメンボーの材料',\n",
              " '横浜の十',\n",
              " '当分の間',\n",
              " '私の方',\n",
              " '派の俳人',\n",
              " '敬服の至り',\n",
              " '飯の時刻',\n",
              " '吾輩の咽喉',\n",
              " '主客の耳',\n",
              " '承知の通り',\n",
              " '方面の研究',\n",
              " '去年の暮',\n",
              " '文章の類',\n",
              " '古人の作',\n",
              " '同人の創作',\n",
              " '古人の作',\n",
              " '白楽天の琵琶',\n",
              " '行のよう',\n",
              " '蕪村の春風',\n",
              " '曲の種類',\n",
              " '近松の心中',\n",
              " '浄瑠璃の近松',\n",
              " '家の近松',\n",
              " '吾輩の頭',\n",
              " '主人の顔色',\n",
              " '作中の人物',\n",
              " '時代の人',\n",
              " '顔の横手',\n",
              " '登場の人物',\n",
              " '明瞭の智識',\n",
              " '娼家の下婢',\n",
              " '茶屋の下女',\n",
              " '部屋の助役',\n",
              " '仲居の性格',\n",
              " '一定の場所',\n",
              " '男の人間',\n",
              " '主人の顔',\n",
              " '君のほか',\n",
              " '家の気',\n",
              " '何の役割',\n",
              " '会場の窓',\n",
              " '入会の上',\n",
              " '的の主人',\n",
              " '員の名簿',\n",
              " '紫の風呂敷',\n",
              " '版の帳面',\n",
              " '署名の上',\n",
              " '主人の膝',\n",
              " '膝の前',\n",
              " '連中の名',\n",
              " '念の体',\n",
              " '賛成の意',\n",
              " '謀叛の連判',\n",
              " '知名の学者',\n",
              " '無上の光栄',\n",
              " '返事の勢',\n",
              " '畳の上',\n",
              " '皿の中',\n",
              " '中のカステラ',\n",
              " '今朝の雑煮',\n",
              " '子の胃',\n",
              " '胃の中',\n",
              " '皿のカステラ',\n",
              " '机の上',\n",
              " '先生の手紙',\n",
              " '新年の御慶',\n",
              " '先生の手紙',\n",
              " '大兄の消極',\n",
              " '未曾有の新年',\n",
              " '程の多忙',\n",
              " '男の事',\n",
              " '一刻のひま',\n",
              " 'トチメンボーの御馳走',\n",
              " '払底の為',\n",
              " '例の通り',\n",
              " '男爵の歌留多',\n",
              " '協会の新年',\n",
              " '会の連発',\n",
              " '当分の間',\n",
              " '拝趨の礼',\n",
              " '光来の節',\n",
              " '何の珍味',\n",
              " '払底の為',\n",
              " '孔雀の舌',\n",
              " '承知の通り',\n",
              " '肉の分量',\n",
              " '小指の半ば',\n",
              " '大兄の胃',\n",
              " '羽の孔雀',\n",
              " '普通の鳥屋',\n",
              " '感謝の意',\n",
              " '孔雀の舌',\n",
              " '舌の料理',\n",
              " '全盛の砌',\n",
              " '風流の極度',\n",
              " '世紀の頃',\n",
              " '饗宴の図',\n",
              " '孔雀の料理',\n",
              " '近頃の如く',\n",
              " '胃弱の標準',\n",
              " '家の説',\n",
              " '方丈の食',\n",
              " '胃の人',\n",
              " '大兄の如く',\n",
              " '多量の滋味',\n",
              " '一の秘法',\n",
              " '種の方法',\n",
              " '廓清の功',\n",
              " 'かくの如く',\n",
              " '此等の事',\n",
              " '世紀の今日',\n",
              " '交通の頻繁',\n",
              " '宴会の増加',\n",
              " '国の国民',\n",
              " '嘔吐の術',\n",
              " '西洋の事情',\n",
              " '明治の社会',\n",
              " '諸家の著述',\n",
              " '発見の端緒',\n",
              " '残念の至',\n",
              " '孔雀の舌',\n",
              " '舌の御馳走',\n",
              " '小生の都合',\n",
              " '大兄の為',\n",
              " '白磁の水仙',\n",
              " '軸の梅',\n",
              " '障子の中',\n",
              " '鉢の葉蘭',\n",
              " '葉蘭の影',\n",
              " '人間の取扱',\n",
              " '自分の境遇',\n",
              " '猫の方',\n",
              " '猫の方',\n",
              " '私の脈',\n",
              " '膝の上',\n",
              " '猫の病気',\n",
              " '大事の猫',\n",
              " '吾輩のうち',\n",
              " '様の何とか',\n",
              " '様の何とか',\n",
              " '何とかの何とか',\n",
              " '何とかの下女',\n",
              " '頃のよう',\n",
              " '国事の秘密',\n",
              " '時のよう',\n",
              " '表通りの教師',\n",
              " '教師の所',\n",
              " '吾輩の主人',\n",
              " '何の呪い',\n",
              " '相応の作法',\n",
              " '毛の病気',\n",
              " 'あいつの御蔭',\n",
              " '書斎の中',\n",
              " '沈吟の体',\n",
              " 'さんの所',\n",
              " '無名氏の作',\n",
              " '僕の翻訳',\n",
              " '読本の中',\n",
              " '孔雀の舌',\n",
              " '舌の讐',\n",
              " '君のよう',\n",
              " '借金の催促',\n",
              " '近来の名文',\n",
              " '君の審美',\n",
              " '眼の本家',\n",
              " '本家のよう',\n",
              " '師の遺誡',\n",
              " 'いその巨人',\n",
              " '金縁の眼鏡',\n",
              " '眼鏡の奥',\n",
              " '平等の水彩',\n",
              " '画の比',\n",
              " '感服の至り',\n",
              " 'トチメンボーの亡魂',\n",
              " '君の紹介',\n",
              " '迷惑の事',\n",
              " '自分の姓名',\n",
              " '姓名のこと',\n",
              " '初対面の人',\n",
              " '自分の名前',\n",
              " '名前の講釈',\n",
              " '唐皮の煙草',\n",
              " '腹の底',\n",
              " '腹の底',\n",
              " '鼻の孔',\n",
              " '咽喉の出口',\n",
              " '知名の文士',\n",
              " '近松の世話物',\n",
              " '何の役',\n",
              " '孔雀の舌',\n",
              " 'トチメンボーの復讐',\n",
              " '行徳の俎',\n",
              " '行徳の俎',\n",
              " '教場の経験',\n",
              " '行徳の俎',\n",
              " '何の事',\n",
              " '床の方',\n",
              " '風呂の帰りがけ',\n",
              " '行徳の俎',\n",
              " '去年の暮',\n",
              " '行徳の俎',\n",
              " '先生の不思議',\n",
              " '暮の二',\n",
              " '例の東風',\n",
              " '参堂の上',\n",
              " 'ストーブの前',\n",
              " 'バリー・ペーンの滑稽',\n",
              " '静岡の母',\n",
              " '供のよう',\n",
              " 'いろいろの注意',\n",
              " '明治の文壇',\n",
              " '御国のため',\n",
              " 'お正月のよう',\n",
              " '僕の小学校',\n",
              " '時代の朋友',\n",
              " '今度の戦争',\n",
              " '母の手紙',\n",
              " '胃の具合',\n",
              " '町の方',\n",
              " '町の方',\n",
              " '神楽坂の方',\n",
              " '頭の中',\n",
              " '土手の上',\n",
              " '例の松',\n",
              " '松の真下',\n",
              " '例の松',\n",
              " '鴻の台',\n",
              " '鴻の台',\n",
              " '松の下',\n",
              " '土手の上',\n",
              " '他の松',\n",
              " '往来の方',\n",
              " 'あすこの所',\n",
              " '昔の希',\n",
              " '宴会の席',\n",
              " '首縊りの真似',\n",
              " '台の上',\n",
              " '縄の結び目',\n",
              " '他のもの',\n",
              " '元の所',\n",
              " '寒月の顔',\n",
              " '羽織の紐',\n",
              " '下の幽冥',\n",
              " '一種の因果',\n",
              " '火鉢の灰',\n",
              " '昨年の暮',\n",
              " '暮の事',\n",
              " '向島の知人',\n",
              " '知人の家',\n",
              " '近来の快事',\n",
              " '博士の夫人',\n",
              " '私のそば',\n",
              " '譫語のうち',\n",
              " '私の名',\n",
              " '時のよう',\n",
              " '周囲の空気',\n",
              " '頭の中',\n",
              " '当人の迷惑',\n",
              " '飛花落葉の感慨',\n",
              " '総身の活気',\n",
              " '花川戸の方',\n",
              " '橋の上',\n",
              " '提灯の火',\n",
              " 'ビールの処',\n",
              " '遥かの川上',\n",
              " '川上の方',\n",
              " '私の名',\n",
              " '水の面',\n",
              " '気のせい',\n",
              " '私の名',\n",
              " '遠くの方',\n",
              " '川の底',\n",
              " '子の声',\n",
              " '自分の声',\n",
              " '子の声',\n",
              " '私の耳',\n",
              " '浪の下',\n",
              " '水の下',\n",
              " '欄干の上',\n",
              " '糸のよう',\n",
              " '自分の鼻',\n",
              " '鼻の頭',\n",
              " '水の中',\n",
              " '橋の真中',\n",
              " '後ろの間',\n",
              " '羽織の紐',\n",
              " '僕の経験',\n",
              " '教授の材料',\n",
              " '人間の感応',\n",
              " 'さんの病気',\n",
              " '門の内',\n",
              " '沈思の体',\n",
              " '迷亭の眼中',\n",
              " '去年の暮',\n",
              " '暮の事',\n",
              " '去年の暮',\n",
              " '前歯のうち',\n",
              " '御歳暮の代り',\n",
              " '今日の語り物',\n",
              " '摂津の三',\n",
              " '詰の談判',\n",
              " '相当の席',\n",
              " '正当の手続き',\n",
              " '鈴木の君代',\n",
              " '正当の手続き',\n",
              " '鈴木の君代',\n",
              " '玉のよう',\n",
              " '度の願',\n",
              " '身上の苦労',\n",
              " '供の世話',\n",
              " '薪水の労',\n",
              " '枚の堵',\n",
              " 'ものの胸中',\n",
              " '無限の感慨',\n",
              " '女の事',\n",
              " '今の内',\n",
              " '有為転変の理',\n",
              " '生者必滅の道',\n",
              " '夫の妻',\n",
              " '西洋の諺',\n",
              " '御存じの癖',\n",
              " '学校の卒業生',\n",
              " '計画の腰',\n",
              " '僕の英語',\n",
              " '妻のよう',\n",
              " '生者必滅の理',\n",
              " '細君の英語',\n",
              " '何の気',\n",
              " '書斎の開き戸',\n",
              " '自分の妻',\n",
              " '縮緬の羽織',\n",
              " '僕の舌',\n",
              " '呑のよう',\n",
              " '格別の事',\n",
              " '細君の厳命',\n",
              " '僕の前',\n",
              " '胃の中',\n",
              " '茶の間の柱時計',\n",
              " '時の音',\n",
              " '何の苦',\n",
              " '先生の名医',\n",
              " '夢のよう',\n",
              " '細君の意見',\n",
              " '僕の義理',\n",
              " '自分の義務',\n",
              " '君のよう',\n",
              " '独り言のよう',\n",
              " '障子の蔭',\n",
              " '細君の咳払い',\n",
              " '吾輩の主人',\n",
              " '主人の我儘',\n",
              " '今の話',\n",
              " '何の所得',\n",
              " '太平の逸民',\n",
              " '競争の念',\n",
              " '日常の談笑',\n",
              " '穴の動物',\n",
              " '気の毒の至り',\n",
              " '普通の半可通',\n",
              " '形の厭味',\n",
              " '人の談話',\n",
              " '子の様子',\n",
              " 'さんの庭口',\n",
              " '流れの雲',\n",
              " '庭の面',\n",
              " '元日の曙光',\n",
              " '人の気合',\n",
              " '泥足のまま',\n",
              " '座蒲団の真中',\n",
              " '子の事',\n",
              " '障子のうち',\n",
              " '人間の位牌',\n",
              " '信女の誉',\n",
              " '誉の字',\n",
              " '蒲団の上',\n",
              " 'さんの声',\n",
              " '下女の声',\n",
              " '座蒲団の上',\n",
              " '木彫の猫',\n",
              " '猫のよう',\n",
              " '人様の事',\n",
              " '表通りの教師',\n",
              " '教師のうち',\n",
              " 'うちの野良猫',\n",
              " '我慢のしどころ',\n",
              " '毛のよう',\n",
              " '毛のよう',\n",
              " '下女の考え',\n",
              " '下女の顔',\n",
              " '毛の代り',\n",
              " ...]"
            ]
          },
          "metadata": {
            "tags": []
          },
          "execution_count": 161
        }
      ]
    },
    {
      "metadata": {
        "id": "RsfD7Ib82nS1",
        "colab_type": "code",
        "colab": {
          "autoexec": {
            "startup": false,
            "wait_interval": 0
          },
          "base_uri": "https://localhost:8080/",
          "height": 34
        },
        "outputId": "d15fafa5-5720-4b26-d154-efab37bb87c6",
        "executionInfo": {
          "status": "ok",
          "timestamp": 1530002281778,
          "user_tz": -540,
          "elapsed": 6101,
          "user": {
            "displayName": "渡辺剛志",
            "photoUrl": "//lh3.googleusercontent.com/-Y8lP9fDW5vI/AAAAAAAAAAI/AAAAAAAAAFw/1IlolMsOgZI/s50-c-k-no/photo.jpg",
            "userId": "104385516219516651552"
          }
        }
      },
      "cell_type": "code",
      "source": [
        "#Q15----------\n",
        "max = 0\n",
        "str = \"\"\n",
        "for i in range(len(all_dic.index)):\n",
        "  max_ = 0\n",
        "  str_ = all_dic.iloc[i,3]\n",
        "  for j in range(len(all_dic.index)-i):\n",
        "    if all_dic.iloc[i+j,1] == \"名詞\":\n",
        "      max_ = max_ + 1\n",
        "      str_ = str_ + all_dic.iloc[i+j,3]\n",
        "    else:\n",
        "      break\n",
        "  if max < max_:\n",
        "    max = max_\n",
        "    str = str_\n",
        "\n",
        "print(max)\n",
        "#print(str)"
      ],
      "execution_count": 174,
      "outputs": [
        {
          "output_type": "stream",
          "text": [
            "10\n"
          ],
          "name": "stdout"
        }
      ]
    },
    {
      "metadata": {
        "id": "8OOVDQUj3NEi",
        "colab_type": "code",
        "colab": {
          "autoexec": {
            "startup": false,
            "wait_interval": 0
          },
          "base_uri": "https://localhost:8080/",
          "height": 1108
        },
        "outputId": "a832f7f2-b151-43b7-efee-c0cca20c86ab",
        "executionInfo": {
          "status": "ok",
          "timestamp": 1530002132210,
          "user_tz": -540,
          "elapsed": 499,
          "user": {
            "displayName": "渡辺剛志",
            "photoUrl": "//lh3.googleusercontent.com/-Y8lP9fDW5vI/AAAAAAAAAAI/AAAAAAAAAFw/1IlolMsOgZI/s50-c-k-no/photo.jpg",
            "userId": "104385516219516651552"
          }
        }
      },
      "cell_type": "code",
      "source": [
        "#Q16----------\n",
        "freq = all_dic[\"base\"].value_counts()\n",
        "freq"
      ],
      "execution_count": 165,
      "outputs": [
        {
          "output_type": "execute_result",
          "data": {
            "text/plain": [
              "の        9194\n",
              "。        7486\n",
              "て        6848\n",
              "、        6772\n",
              "は        6420\n",
              "に        6243\n",
              "を        6071\n",
              "だ        5975\n",
              "と        5508\n",
              "が        5337\n",
              "た        4267\n",
              "する       3657\n",
              "「        3231\n",
              "」        3225\n",
              "ない       3052\n",
              "も        2479\n",
              "ある       2320\n",
              "*        2191\n",
              "で        2081\n",
              "から       2031\n",
              "いる       1777\n",
              "ん        1568\n",
              "か        1529\n",
              "云う       1408\n",
              "事        1207\n",
              "です       1164\n",
              "ます       1146\n",
              "なる       1120\n",
              "へ        1034\n",
              "う         987\n",
              "         ... \n",
              "尋問          1\n",
              "しき          1\n",
              "省ける         1\n",
              "化け物         1\n",
              "任           1\n",
              "寄木          1\n",
              "張り詰める       1\n",
              "聞き苦しい       1\n",
              "白眼          1\n",
              "菜っ葉         1\n",
              "笑われる        1\n",
              "夜目          1\n",
              "据わる         1\n",
              "切り開く        1\n",
              "重んじる        1\n",
              "果報者         1\n",
              "土曜          1\n",
              "いやす         1\n",
              "見おろす        1\n",
              "吃る          1\n",
              "七つ          1\n",
              "復興          1\n",
              "粗略          1\n",
              "瞥見          1\n",
              "大戸          1\n",
              "寒中          1\n",
              "身代          1\n",
              "薔薇          1\n",
              "立葵          1\n",
              "Ａ           1\n",
              "Name: base, Length: 11251, dtype: int64"
            ]
          },
          "metadata": {
            "tags": []
          },
          "execution_count": 165
        }
      ]
    },
    {
      "metadata": {
        "id": "MIL0_g-O9BEX",
        "colab_type": "code",
        "colab": {
          "autoexec": {
            "startup": false,
            "wait_interval": 0
          },
          "base_uri": "https://localhost:8080/",
          "height": 210
        },
        "outputId": "49f6c47c-c549-4bf8-b774-e096c7a48dd5",
        "executionInfo": {
          "status": "ok",
          "timestamp": 1530002132952,
          "user_tz": -540,
          "elapsed": 513,
          "user": {
            "displayName": "渡辺剛志",
            "photoUrl": "//lh3.googleusercontent.com/-Y8lP9fDW5vI/AAAAAAAAAAI/AAAAAAAAAFw/1IlolMsOgZI/s50-c-k-no/photo.jpg",
            "userId": "104385516219516651552"
          }
        }
      },
      "cell_type": "code",
      "source": [
        "#Q17----------\n",
        "print(freq.iloc[0:10])"
      ],
      "execution_count": 166,
      "outputs": [
        {
          "output_type": "stream",
          "text": [
            "の    9194\n",
            "。    7486\n",
            "て    6848\n",
            "、    6772\n",
            "は    6420\n",
            "に    6243\n",
            "を    6071\n",
            "だ    5975\n",
            "と    5508\n",
            "が    5337\n",
            "Name: base, dtype: int64\n"
          ],
          "name": "stdout"
        }
      ]
    },
    {
      "metadata": {
        "id": "LnwBjUFQ9ZqE",
        "colab_type": "code",
        "colab": {
          "autoexec": {
            "startup": false,
            "wait_interval": 0
          },
          "base_uri": "https://localhost:8080/",
          "height": 365
        },
        "outputId": "ad21a01f-53fa-44ea-af40-7b95bff61831",
        "executionInfo": {
          "status": "ok",
          "timestamp": 1530002133605,
          "user_tz": -540,
          "elapsed": 475,
          "user": {
            "displayName": "渡辺剛志",
            "photoUrl": "//lh3.googleusercontent.com/-Y8lP9fDW5vI/AAAAAAAAAAI/AAAAAAAAAFw/1IlolMsOgZI/s50-c-k-no/photo.jpg",
            "userId": "104385516219516651552"
          }
        }
      },
      "cell_type": "code",
      "source": [
        "import matplotlib.pyplot as plt\n",
        "import matplotlib.font_manager as fm\n",
        "\n",
        "plt.bar(freq.iloc[0:10].index, freq.iloc[0:10], width=0.8, bottom=None, hold=None, data=None)"
      ],
      "execution_count": 167,
      "outputs": [
        {
          "output_type": "execute_result",
          "data": {
            "text/plain": [
              "<Container object of 10 artists>"
            ]
          },
          "metadata": {
            "tags": []
          },
          "execution_count": 167
        },
        {
          "output_type": "display_data",
          "data": {
            "image/png": "[encoded data removed]",
            "text/plain": [
              "<matplotlib.figure.Figure at 0x7fe3dd0e6a58>"
            ]
          },
          "metadata": {
            "tags": []
          }
        }
      ]
    },
    {
      "metadata": {
        "id": "uXcPYosL_Wbo",
        "colab_type": "code",
        "colab": {
          "autoexec": {
            "startup": false,
            "wait_interval": 0
          },
          "base_uri": "https://localhost:8080/",
          "height": 470
        },
        "outputId": "90ff1238-f43e-49bc-c927-ab0e688ed984",
        "executionInfo": {
          "status": "ok",
          "timestamp": 1530002134380,
          "user_tz": -540,
          "elapsed": 526,
          "user": {
            "displayName": "渡辺剛志",
            "photoUrl": "//lh3.googleusercontent.com/-Y8lP9fDW5vI/AAAAAAAAAAI/AAAAAAAAAFw/1IlolMsOgZI/s50-c-k-no/photo.jpg",
            "userId": "104385516219516651552"
          }
        }
      },
      "cell_type": "code",
      "source": [
        "#Q18----------\n",
        "plt.hist(freq, bins =20, range=(1,20))"
      ],
      "execution_count": 168,
      "outputs": [
        {
          "output_type": "execute_result",
          "data": {
            "text/plain": [
              "(array([4715., 1906.,  957.,  603.,  459.,  324.,  241.,  207.,  159.,\n",
              "         125.,  120.,  119.,   83.,   96.,   74.,   52.,   49.,   57.,\n",
              "          46.,   43.]),\n",
              " array([ 1.  ,  1.95,  2.9 ,  3.85,  4.8 ,  5.75,  6.7 ,  7.65,  8.6 ,\n",
              "         9.55, 10.5 , 11.45, 12.4 , 13.35, 14.3 , 15.25, 16.2 , 17.15,\n",
              "        18.1 , 19.05, 20.  ]),\n",
              " <a list of 20 Patch objects>)"
            ]
          },
          "metadata": {
            "tags": []
          },
          "execution_count": 168
        },
        {
          "output_type": "display_data",
          "data": {
            "image/png": "[encoded data removed]",
            "text/plain": [
              "<matplotlib.figure.Figure at 0x7fe3dd4852b0>"
            ]
          },
          "metadata": {
            "tags": []
          }
        }
      ]
    },
    {
      "metadata": {
        "id": "xY4OzGpGGV4c",
        "colab_type": "code",
        "colab": {
          "autoexec": {
            "startup": false,
            "wait_interval": 0
          }
        }
      },
      "cell_type": "code",
      "source": [
        ""
      ],
      "execution_count": 0,
      "outputs": []
    }
  ]
}