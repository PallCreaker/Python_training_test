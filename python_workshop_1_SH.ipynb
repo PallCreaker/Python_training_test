{
 "cells": [
  {
   "cell_type": "code",
   "execution_count": 4,
   "metadata": {},
   "outputs": [],
   "source": [
    "% matplotlib inline\n",
    "import numpy as np\n",
    "import pandas as pd\n",
    "import matplotlib.pyplot as plt"
   ]
  },
  {
   "cell_type": "code",
   "execution_count": null,
   "metadata": {},
   "outputs": [],
   "source": [
    "#pandas"
   ]
  },
  {
   "cell_type": "code",
   "execution_count": 5,
   "metadata": {},
   "outputs": [
    {
     "name": "stdout",
     "output_type": "stream",
     "text": [
      "       SEQN      RIDAGEYR  RIAGENDR  RIDRETH3      WTINT2YR      WTMEC2YR  \\\n",
      "0   73557.0  6.900000e+01       1.0       4.0  13281.237386  1.348104e+04   \n",
      "1   73558.0  5.400000e+01       1.0       3.0  23682.057386  2.447177e+04   \n",
      "2   73559.0  7.200000e+01       1.0       3.0  57214.803319  5.719329e+04   \n",
      "3   73560.0  9.000000e+00       1.0       3.0  55201.178592  5.576651e+04   \n",
      "4   73561.0  7.300000e+01       2.0       3.0  63709.667069  6.554187e+04   \n",
      "5   73562.0  5.600000e+01       1.0       1.0  24978.144602  2.534499e+04   \n",
      "6   73563.0  5.397605e-79       1.0       3.0  18040.818432  1.791356e+04   \n",
      "7   73564.0  6.100000e+01       2.0       3.0  60325.095254  6.175865e+04   \n",
      "8   73565.0  4.200000e+01       1.0       2.0  23307.675629  5.397605e-79   \n",
      "9   73566.0  5.600000e+01       2.0       3.0  16351.783140  1.748012e+04   \n",
      "10  73567.0  6.500000e+01       1.0       3.0  34002.622995  3.479543e+04   \n",
      "11  73568.0  2.600000e+01       2.0       3.0  89514.433218  9.152352e+04   \n",
      "12  73569.0  5.397605e-79       2.0       7.0   6673.803649  5.397605e-79   \n",
      "13  73570.0  9.000000e+00       2.0       7.0  11913.818655  1.207147e+04   \n",
      "14  73571.0  7.600000e+01       1.0       3.0  46988.470276  4.619011e+04   \n",
      "15  73572.0  1.000000e+01       2.0       4.0  11689.376908  1.276440e+04   \n",
      "16  73573.0  1.000000e+01       1.0       4.0   6403.212786  6.460788e+03   \n",
      "17  73574.0  3.300000e+01       2.0       6.0  14155.313000  1.539722e+04   \n",
      "18  73575.0  1.000000e+00       1.0       4.0   7574.950558  7.721542e+03   \n",
      "19  73576.0  1.600000e+01       1.0       4.0  12433.748735  1.266577e+04   \n",
      "20  73577.0  3.200000e+01       1.0       1.0  36284.650273  3.973502e+04   \n",
      "21  73578.0  1.800000e+01       1.0       1.0  11592.846429  1.175863e+04   \n",
      "22  73579.0  1.200000e+01       2.0       3.0  63248.989522  7.070803e+04   \n",
      "23  73580.0  3.800000e+01       2.0       4.0  27388.920690  2.719664e+04   \n",
      "24  73581.0  5.000000e+01       1.0       6.0  15902.418122  1.676426e+04   \n",
      "25  73582.0  2.300000e+01       2.0       4.0  30197.081366  3.118189e+04   \n",
      "26  73583.0  7.000000e+00       2.0       3.0  47574.649392  4.819641e+04   \n",
      "27  73584.0  1.300000e+01       1.0       3.0  72700.381729  7.218224e+04   \n",
      "28  73585.0  2.800000e+01       1.0       6.0  18063.143861  1.859097e+04   \n",
      "29  73586.0  4.000000e+00       2.0       6.0  11635.240800  1.356968e+04   \n",
      "\n",
      "    DR1TCARB  DR1TTFAT  BMXWT  BMXBMI   BMXHT  LBXGH  LBXGLU  LBDGLUSI  \n",
      "0     239.59     52.81   78.3    26.7  171.30   13.9     NaN       NaN  \n",
      "1     423.78    124.29   89.5    28.6  176.80    9.1     NaN       NaN  \n",
      "2     224.39     65.97   88.9    28.9  175.30    8.9   193.0    10.713  \n",
      "3     162.92     58.27   32.2    17.1  137.30    NaN     NaN       NaN  \n",
      "4     178.20     55.36   52.0    19.7  162.40    4.9   107.0     5.940  \n",
      "5     189.59     93.92  105.0    41.7  158.70    5.5     NaN       NaN  \n",
      "6        NaN       NaN    7.4     NaN     NaN    NaN     NaN       NaN  \n",
      "7     300.16     91.03   93.4    35.7  161.80    5.5   110.0     6.106  \n",
      "8        NaN       NaN    NaN     NaN     NaN    NaN     NaN       NaN  \n",
      "9     226.32     41.31   61.8    26.5  152.80    5.4     NaN       NaN  \n",
      "10    216.59     82.95   65.3    22.0  172.40    5.2     NaN       NaN  \n",
      "11    227.63    172.21   47.1    20.3  152.50    5.2    89.0     4.940  \n",
      "12       NaN       NaN    NaN     NaN     NaN    NaN     NaN       NaN  \n",
      "13    299.48     81.19   31.9    17.4  135.50    NaN     NaN       NaN  \n",
      "14    150.93     39.68  102.4    34.4  172.50    6.9     NaN       NaN  \n",
      "15    178.12     78.54   41.7    19.7  145.40    NaN     NaN       NaN  \n",
      "16       NaN       NaN   50.1    20.0  158.38    NaN     NaN       NaN  \n",
      "17    575.61    249.49   56.8    22.8  158.00    5.0    84.0     4.663  \n",
      "18    124.92     32.08    9.4     NaN     NaN    NaN     NaN       NaN  \n",
      "19    145.46     25.14   67.3    23.2  170.40    5.1    89.0     4.940  \n",
      "20    385.05    121.74   79.7    28.9  166.20    5.3   104.0     5.773  \n",
      "21    113.89     18.24  109.4    35.6  175.20    NaN     NaN       NaN  \n",
      "22    211.42     60.80   40.2    15.5  161.00    5.5     NaN       NaN  \n",
      "23    305.69     97.72   93.5    35.9  161.40    5.8   103.0     5.718  \n",
      "24    534.92     63.95   80.9    23.6  185.00    5.0   110.0     6.106  \n",
      "25       NaN       NaN   46.7    18.6  158.30    NaN     NaN       NaN  \n",
      "26     94.60     12.20   19.7    14.4  116.90    NaN     NaN       NaN  \n",
      "27     87.44     29.36   53.1    25.3  144.90    5.4     NaN       NaN  \n",
      "28    175.42     80.46   92.2    30.1  175.10    5.0     NaN       NaN  \n",
      "29     93.32     37.64   18.6    15.5  109.40    NaN     NaN       NaN  \n",
      "Index(['SEQN', 'RIDAGEYR', 'RIAGENDR', 'RIDRETH3', 'WTINT2YR', 'WTMEC2YR',\n",
      "       'DR1TCARB', 'DR1TTFAT', 'BMXWT', 'BMXBMI', 'BMXHT', 'LBXGH', 'LBXGLU',\n",
      "       'LBDGLUSI'],\n",
      "      dtype='object')\n",
      "14\n"
     ]
    }
   ],
   "source": [
    "#1\n",
    "file_path = 'C:/Users/180250/Downloads/NHANES_sample_data.csv'\n",
    "\n",
    "df = pd.read_csv(file_path)\n",
    "\n",
    "print(df.head(n=30))\n",
    "print(df.columns)\n",
    "print(len(df.columns))"
   ]
  },
  {
   "cell_type": "code",
   "execution_count": 6,
   "metadata": {},
   "outputs": [
    {
     "name": "stdout",
     "output_type": "stream",
     "text": [
      "7\n"
     ]
    }
   ],
   "source": [
    "#2\n",
    "drop_columns_list = ['RIDRETH3', 'WTINT2YR', 'WTMEC2YR', 'DR1TCARB', 'DR1TTFAT',\n",
    "                     'LBXGLU', 'BMXHT']\n",
    "df = df.drop(columns=drop_columns_list)\n",
    "print(len(df.columns))"
   ]
  },
  {
   "cell_type": "code",
   "execution_count": 8,
   "metadata": {},
   "outputs": [
    {
     "name": "stdout",
     "output_type": "stream",
     "text": [
      "Index(['SEQN', 'Age', 'Gender', 'Body_weight', 'BMI', 'HbA1c', 'Glucose'], dtype='object')\n"
     ]
    }
   ],
   "source": [
    "#3\n",
    "rename_column_dict = {'RIDAGEYR': 'Age',\n",
    "                      'RIAGENDR': 'Gender',\n",
    "                      'BMXWT': 'Body_weight',\n",
    "                      'BMXBMI': 'BMI',\n",
    "                      'LBXGH': 'HbA1c',\n",
    "                      'LBDGLUSI': 'Glucose'}\n",
    "df = df.rename(columns=rename_column_dict)\n",
    "print(df.columns)"
   ]
  },
  {
   "cell_type": "code",
   "execution_count": 9,
   "metadata": {},
   "outputs": [
    {
     "name": "stdout",
     "output_type": "stream",
     "text": [
      "10175\n",
      "3138\n"
     ]
    }
   ],
   "source": [
    "#4\n",
    "print(len(df))\n",
    "df = df.dropna()\n",
    "print(len(df))"
   ]
  },
  {
   "cell_type": "code",
   "execution_count": 64,
   "metadata": {},
   "outputs": [
    {
     "name": "stdout",
     "output_type": "stream",
     "text": [
      "2     1.75\n",
      "4     1.62\n",
      "7     1.62\n",
      "11    1.52\n",
      "17    1.58\n",
      "19    1.70\n",
      "20    1.66\n",
      "23    1.61\n",
      "24    1.85\n",
      "30    1.69\n",
      "Name: Height, dtype: float64\n"
     ]
    }
   ],
   "source": [
    "#5\n",
    "df['Height'] = (df['Body_weight'] / df['BMI']) ** 0.5\n",
    "df['Height'] = df['Height'].round(2)\n",
    "print(df['Height'].head(n=10))"
   ]
  },
  {
   "cell_type": "code",
   "execution_count": 10,
   "metadata": {},
   "outputs": [
    {
     "name": "stdout",
     "output_type": "stream",
     "text": [
      "               SEQN          Age       Gender  Body_weight          BMI  \\\n",
      "count   3138.000000  3138.000000  3138.000000  3138.000000  3138.000000   \n",
      "mean   78713.195029    43.210644     1.515934    78.594519    28.142925   \n",
      "std     2916.527378    20.634807     0.499826    22.840293     7.428680   \n",
      "min    73559.000000    12.000000     1.000000    30.100000    13.400000   \n",
      "25%    76200.750000    24.000000     1.000000    62.800000    22.900000   \n",
      "50%    78735.500000    43.000000     2.000000    75.200000    27.000000   \n",
      "75%    81240.250000    60.000000     2.000000    90.000000    31.600000   \n",
      "max    83727.000000    80.000000     2.000000   201.600000    82.900000   \n",
      "\n",
      "             HbA1c      Glucose  \n",
      "count  3138.000000  3138.000000  \n",
      "mean      5.640121     5.823680  \n",
      "std       0.982489     1.743688  \n",
      "min       3.500000     2.831000  \n",
      "25%       5.200000     5.051000  \n",
      "50%       5.400000     5.440000  \n",
      "75%       5.800000     5.940000  \n",
      "max      15.400000    23.370000  \n"
     ]
    }
   ],
   "source": [
    "#6,7\n",
    "print(df.describe())"
   ]
  },
  {
   "cell_type": "code",
   "execution_count": 22,
   "metadata": {},
   "outputs": [
    {
     "name": "stdout",
     "output_type": "stream",
     "text": [
      "2406\n",
      "Index(['SEQN', 'Age', 'Gender', 'Body_weight', 'BMI', 'HbA1c', 'Glucose'], dtype='object')\n"
     ]
    }
   ],
   "source": [
    "#8\n",
    "df_lim = df[(df['Age'] >= 20) & (18.0 <= df['BMI']) & (df['BMI'] <= 50) & (4.0 <= df['Glucose']) & (df['Glucose'] <= 16.) & (4.0 <= df['HbA1c']) & (df['HbA1c'] <= 10.)]\n",
    "print(len(df_lim))\n",
    "print(df_lim.columns)"
   ]
  },
  {
   "cell_type": "code",
   "execution_count": 12,
   "metadata": {},
   "outputs": [
    {
     "name": "stdout",
     "output_type": "stream",
     "text": [
      "           Age                                                         BMI  \\\n",
      "         count       mean        std   min   25%   50%   75%   max   count   \n",
      "Gender                                                                       \n",
      "1.0     1519.0  43.165240  20.923626  12.0  23.0  43.0  61.0  80.0  1519.0   \n",
      "2.0     1619.0  43.253243  20.366484  12.0  25.0  43.0  60.0  80.0  1619.0   \n",
      "\n",
      "                    ...    HbA1c          SEQN                             \\\n",
      "             mean   ...      75%   max   count          mean          std   \n",
      "Gender              ...                                                     \n",
      "1.0     27.453193   ...      5.8  15.4  1519.0  78750.097433  2915.576643   \n",
      "2.0     28.790056   ...      5.8  13.6  1619.0  78678.571958  2917.895349   \n",
      "\n",
      "                                                     \n",
      "            min      25%      50%      75%      max  \n",
      "Gender                                               \n",
      "1.0     73559.0  76185.0  78748.0  81300.0  83727.0  \n",
      "2.0     73561.0  76208.0  78718.0  81185.0  83718.0  \n",
      "\n",
      "[2 rows x 48 columns]\n"
     ]
    }
   ],
   "source": [
    "#9\n",
    "df_grouped_gender = df.groupby('Gender')\n",
    "print(df_grouped_gender.describe())"
   ]
  },
  {
   "cell_type": "code",
   "execution_count": 28,
   "metadata": {},
   "outputs": [
    {
     "data": {
      "text/html": [
       "<div>\n",
       "<style scoped>\n",
       "    .dataframe tbody tr th:only-of-type {\n",
       "        vertical-align: middle;\n",
       "    }\n",
       "\n",
       "    .dataframe tbody tr th {\n",
       "        vertical-align: top;\n",
       "    }\n",
       "\n",
       "    .dataframe thead th {\n",
       "        text-align: right;\n",
       "    }\n",
       "</style>\n",
       "<table border=\"1\" class=\"dataframe\">\n",
       "  <thead>\n",
       "    <tr style=\"text-align: right;\">\n",
       "      <th></th>\n",
       "      <th>BMI</th>\n",
       "      <th>Body_weight</th>\n",
       "      <th>Glucose</th>\n",
       "    </tr>\n",
       "  </thead>\n",
       "  <tbody>\n",
       "    <tr>\n",
       "      <th>0</th>\n",
       "      <td>28.9</td>\n",
       "      <td>88.9</td>\n",
       "      <td>10.713</td>\n",
       "    </tr>\n",
       "    <tr>\n",
       "      <th>1</th>\n",
       "      <td>19.7</td>\n",
       "      <td>52.0</td>\n",
       "      <td>5.940</td>\n",
       "    </tr>\n",
       "    <tr>\n",
       "      <th>2</th>\n",
       "      <td>35.7</td>\n",
       "      <td>93.4</td>\n",
       "      <td>6.106</td>\n",
       "    </tr>\n",
       "  </tbody>\n",
       "</table>\n",
       "</div>"
      ],
      "text/plain": [
       "    BMI  Body_weight  Glucose\n",
       "0  28.9         88.9   10.713\n",
       "1  19.7         52.0    5.940\n",
       "2  35.7         93.4    6.106"
      ]
     },
     "execution_count": 28,
     "metadata": {},
     "output_type": "execute_result"
    }
   ],
   "source": [
    "#10\n",
    "A = df_lim[['BMI']]\n",
    "B = df_lim[['Body_weight', 'Glucose']]\n",
    "temp = pd.concat([A, B], axis=1)\n",
    "temp.index = list(range(len(temp)))\n",
    "temp.head(n=3)"
   ]
  },
  {
   "cell_type": "code",
   "execution_count": 68,
   "metadata": {},
   "outputs": [
    {
     "name": "stdout",
     "output_type": "stream",
     "text": [
      "SEQN           73688.000\n",
      "Age               58.000\n",
      "Gender             1.000\n",
      "Body_weight       97.100\n",
      "BMI               33.600\n",
      "HbA1c              5.500\n",
      "Glucose            5.829\n",
      "Name: 131, dtype: float64\n",
      "2        1.0\n",
      "4        2.0\n",
      "7        2.0\n",
      "11       2.0\n",
      "17       2.0\n",
      "20       1.0\n",
      "23       2.0\n",
      "24       1.0\n",
      "39       2.0\n",
      "41       1.0\n",
      "43       1.0\n",
      "50       1.0\n",
      "53       1.0\n",
      "61       2.0\n",
      "62       2.0\n",
      "64       1.0\n",
      "76       2.0\n",
      "81       2.0\n",
      "82       1.0\n",
      "83       2.0\n",
      "85       2.0\n",
      "90       2.0\n",
      "98       1.0\n",
      "99       1.0\n",
      "102      2.0\n",
      "104      1.0\n",
      "106      1.0\n",
      "110      1.0\n",
      "111      2.0\n",
      "114      1.0\n",
      "        ... \n",
      "10055    1.0\n",
      "10056    1.0\n",
      "10058    1.0\n",
      "10059    2.0\n",
      "10061    1.0\n",
      "10062    1.0\n",
      "10068    2.0\n",
      "10070    1.0\n",
      "10073    2.0\n",
      "10076    1.0\n",
      "10080    1.0\n",
      "10081    1.0\n",
      "10085    1.0\n",
      "10089    1.0\n",
      "10098    1.0\n",
      "10101    2.0\n",
      "10119    2.0\n",
      "10121    2.0\n",
      "10126    2.0\n",
      "10135    1.0\n",
      "10137    2.0\n",
      "10142    2.0\n",
      "10145    2.0\n",
      "10151    1.0\n",
      "10154    2.0\n",
      "10155    1.0\n",
      "10156    1.0\n",
      "10161    2.0\n",
      "10166    1.0\n",
      "10170    1.0\n",
      "Name: Gender, Length: 2406, dtype: float64\n",
      "57.3\n",
      "        SEQN  Gender\n",
      "172  73729.0     1.0\n",
      "353  73910.0     1.0\n",
      "837  74394.0     2.0\n",
      "Age       56.0\n",
      "Gender     1.0\n",
      "BMI       25.6\n",
      "Name: 199, dtype: float64\n",
      "Body_weight    52.0\n",
      "Name: 4, dtype: float64\n"
     ]
    }
   ],
   "source": [
    "#11\n",
    "print(df_lim.iloc[33, :])\n",
    "print(df_lim.iloc[:, 2])\n",
    "print(df_lim.iloc[56, 3])\n",
    "print(df.iloc[[49, 99, 249], [0, 2]])\n",
    "print(df.iloc[56, [1, 2, 4]])\n",
    "print(df[['Body_weight']].iloc[1,:])"
   ]
  },
  {
   "cell_type": "code",
   "execution_count": 31,
   "metadata": {},
   "outputs": [
    {
     "name": "stdout",
     "output_type": "stream",
     "text": [
      "     Body_weight  Glucose\n",
      "2          266.7   32.139\n",
      "4          156.0   17.820\n",
      "7          280.2   18.318\n",
      "11         141.3   14.820\n",
      "17         170.4   13.989\n",
      "19         201.9   14.820\n",
      "20         239.1   17.319\n",
      "23         280.5   17.154\n",
      "24         242.7   18.318\n",
      "30         330.6   15.654\n",
      "39         312.0   17.820\n",
      "41         260.1   18.318\n",
      "43         378.6   21.150\n",
      "50         335.7   14.820\n",
      "53         270.6   14.988\n",
      "61         238.2   16.320\n",
      "62         245.1   14.154\n",
      "64         229.2   16.653\n",
      "76         230.4   16.986\n",
      "81         182.7   18.984\n",
      "82         244.5   22.149\n",
      "83         164.7   18.984\n",
      "85         286.5   15.987\n",
      "90         222.6   18.486\n",
      "98         339.3   14.322\n",
      "99         266.4   14.820\n",
      "100        233.7   15.486\n",
      "102        351.6   23.148\n",
      "104        190.2   14.322\n",
      "106        374.4   17.985\n"
     ]
    }
   ],
   "source": [
    "#12\n",
    "extract_table = 3 * df[['Body_weight', 'Glucose']]\n",
    "print(extract_table.head(n=30))"
   ]
  },
  {
   "cell_type": "code",
   "execution_count": 67,
   "metadata": {},
   "outputs": [
    {
     "name": "stdout",
     "output_type": "stream",
     "text": [
      "405\n",
      "   age_11  age_12  age_21  age_22  age_31  age_32\n",
      "0     374     396     405     435     391     405\n"
     ]
    }
   ],
   "source": [
    "#13\n",
    "age_11 = df_lim[(20 <= df_lim['Age']) & (df_lim['Age'] < 40) & (df_lim['Gender'] == 1.0)]\n",
    "age_12 = df_lim[(20 <= df_lim['Age']) & (df_lim['Age'] < 40) & (df_lim['Gender'] == 2.0)]\n",
    "age_21 = df_lim[(40 <= df_lim['Age']) & (df_lim['Age'] < 60) & (df_lim['Gender'] == 1.0)]\n",
    "age_22 = df_lim[(40 <= df_lim['Age']) & (df_lim['Age'] < 60) & (df_lim['Gender'] == 2.0)]\n",
    "age_31 = df_lim[(60 <= df_lim['Age']) & (df_lim['Gender'] == 1.0)]\n",
    "age_32 = df_lim[(60 <= df_lim['Age']) & (df_lim['Gender'] == 2.0)]\n",
    "\n",
    "subgroup_dict = {'age_11': age_11,\n",
    "                'age_12': age_12,\n",
    "                'age_21': age_21,\n",
    "                'age_22': age_22,\n",
    "                'age_31': age_31,\n",
    "                'age_32': age_32}\n",
    "\n",
    "print(len(age_32))\n",
    "\n",
    "subgroup_count = pd.DataFrame({'age_11': [len(age_11)],\n",
    "                'age_12': [len(age_12)],\n",
    "                'age_21': [len(age_21)],\n",
    "                'age_22': [len(age_22)],\n",
    "                'age_31': [len(age_31)],\n",
    "                'age_32': [len(age_32)]})\n",
    "\n",
    "print(subgroup_count.head(n=6))"
   ]
  },
  {
   "cell_type": "code",
   "execution_count": null,
   "metadata": {},
   "outputs": [],
   "source": [
    "#Numpy"
   ]
  },
  {
   "cell_type": "code",
   "execution_count": 65,
   "metadata": {},
   "outputs": [
    {
     "name": "stdout",
     "output_type": "stream",
     "text": [
      "(2406,)\n",
      "(2406,)\n"
     ]
    }
   ],
   "source": [
    "#1\n",
    "bw = np.array(df_lim['Body_weight'])\n",
    "gen = np.array(df_lim['Gender'])\n",
    "print(bw.shape)\n",
    "print(gen.shape)"
   ]
  },
  {
   "cell_type": "code",
   "execution_count": 57,
   "metadata": {},
   "outputs": [
    {
     "name": "stdout",
     "output_type": "stream",
     "text": [
      "(2406,)\n"
     ]
    }
   ],
   "source": [
    "#2\n",
    "age = np.array(df_lim['Age'])\n",
    "print(age.shape)\n",
    "demo = np.array([bw, gen, age]).T"
   ]
  },
  {
   "cell_type": "code",
   "execution_count": 58,
   "metadata": {},
   "outputs": [
    {
     "name": "stdout",
     "output_type": "stream",
     "text": [
      "(2406, 3)\n"
     ]
    }
   ],
   "source": [
    "#3\n",
    "print(demo.shape)"
   ]
  },
  {
   "cell_type": "code",
   "execution_count": 59,
   "metadata": {},
   "outputs": [
    {
     "name": "stdout",
     "output_type": "stream",
     "text": [
      "       Body_weight  Gender   Age\n",
      "Row_1         88.9     1.0  72.0\n",
      "Row_2         52.0     2.0  73.0\n",
      "Row_3         93.4     2.0  61.0\n"
     ]
    }
   ],
   "source": [
    "#4\n",
    "demo = pd.DataFrame(demo, columns=['Body_weight', 'Gender', 'Age'],\n",
    "                   index=['Row_{}'.format(i) for i in range(1,len(demo) + 1)])\n",
    "print(demo.head(n=3))"
   ]
  },
  {
   "cell_type": "code",
   "execution_count": 60,
   "metadata": {},
   "outputs": [
    {
     "name": "stdout",
     "output_type": "stream",
     "text": [
      "69\n"
     ]
    }
   ],
   "source": [
    "#5\n",
    "print(len(demo[(demo['Gender'] == 2.0) & (demo['Body_weight'] < 50.)]))"
   ]
  },
  {
   "cell_type": "code",
   "execution_count": null,
   "metadata": {},
   "outputs": [],
   "source": []
  }
 ],
 "metadata": {
  "kernelspec": {
   "display_name": "Python 3",
   "language": "python",
   "name": "python3"
  }
 },
 "nbformat": 4,
 "nbformat_minor": 1
}
